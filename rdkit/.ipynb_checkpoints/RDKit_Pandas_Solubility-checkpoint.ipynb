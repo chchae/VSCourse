{
 "cells": [
  {
   "cell_type": "raw",
   "metadata": {
    "cellView": "both",
    "colab": {},
    "colab_type": "code",
    "id": "xy2fMWMdglfK"
   },
   "source": [
    "#! wget -c https://repo.continuum.io/miniconda/Miniconda3-latest-Linux-x86_64.sh\n",
    "#! chmod +x Miniconda3-latest-Linux-x86_64.sh\n",
    "#! bash ./Miniconda3-latest-Linux-x86_64.sh -b -f -p /usr/local\n",
    "\n",
    "! wget -c https://repo.anaconda.com/miniconda/Miniconda3-py37_4.8.3-Linux-x86_64.sh\n",
    "! chmod +x Miniconda3-py37_4.8.3-Linux-x86_64.sh\n",
    "! bash ./Miniconda3-py37_4.8.3-Linux-x86_64.sh -b -f -p /usr/local\n",
    "\n",
    "! conda install -q -y -c rdkit rdkit \n",
    "\n",
    "import sys\n",
    "sys.path.append('/usr/local/lib/python3.7/site-packages/')\n",
    "!pip install git+https://github.com/keras-team/keras-tuner.git"
   ]
  },
  {
   "cell_type": "raw",
   "metadata": {
    "colab": {},
    "colab_type": "code",
    "id": "iS_IoeoBhF12"
   },
   "source": [
    "from google.colab import auth\n",
    "auth.authenticate_user()\n",
    "\n",
    "from google.colab import drive\n",
    "drive.mount('./MyDrive')\n",
    "\n",
    "driver_name = './MyDrive/My Drive/Colab Notebooks/'"
   ]
  },
  {
   "cell_type": "code",
   "execution_count": 44,
   "metadata": {
    "colab": {},
    "colab_type": "code",
    "id": "CPtOYYLGg0zS"
   },
   "outputs": [],
   "source": [
    "import numpy as np\n",
    "import pandas as pd\n",
    "\n",
    "from rdkit import Chem, DataStructs\n",
    "from rdkit.Chem import AllChem, DataStructs, Draw, Descriptors\n",
    "from rdkit.Chem.Draw import IPythonConsole\n",
    "from rdkit.Chem import PandasTools"
   ]
  },
  {
   "cell_type": "code",
   "execution_count": 58,
   "metadata": {
    "colab": {},
    "colab_type": "code",
    "id": "AFqitvb8hInd"
   },
   "outputs": [
    {
     "data": {
      "text/html": [
       "<div>\n",
       "<style scoped>\n",
       "    .dataframe tbody tr th:only-of-type {\n",
       "        vertical-align: middle;\n",
       "    }\n",
       "\n",
       "    .dataframe tbody tr th {\n",
       "        vertical-align: top;\n",
       "    }\n",
       "\n",
       "    .dataframe thead th {\n",
       "        text-align: right;\n",
       "    }\n",
       "</style>\n",
       "<table border=\"1\" class=\"dataframe\">\n",
       "  <thead>\n",
       "    <tr style=\"text-align: right;\">\n",
       "      <th></th>\n",
       "      <th>solv</th>\n",
       "      <th>smiles</th>\n",
       "    </tr>\n",
       "  </thead>\n",
       "  <tbody>\n",
       "    <tr>\n",
       "      <th>0</th>\n",
       "      <td>-0.77</td>\n",
       "      <td>OCC3OC(OCC2OC(OC(C#N)c1ccccc1)C(O)C(O)C2O)C(O)...</td>\n",
       "    </tr>\n",
       "    <tr>\n",
       "      <th>1</th>\n",
       "      <td>-3.30</td>\n",
       "      <td>Cc1occc1C(=O)Nc2ccccc2</td>\n",
       "    </tr>\n",
       "    <tr>\n",
       "      <th>2</th>\n",
       "      <td>-2.06</td>\n",
       "      <td>CC(C)=CCCC(C)=CC(=O)</td>\n",
       "    </tr>\n",
       "    <tr>\n",
       "      <th>3</th>\n",
       "      <td>-7.87</td>\n",
       "      <td>c1ccc2c(c1)ccc3c2ccc4c5ccccc5ccc43</td>\n",
       "    </tr>\n",
       "    <tr>\n",
       "      <th>4</th>\n",
       "      <td>-1.33</td>\n",
       "      <td>c1ccsc1</td>\n",
       "    </tr>\n",
       "  </tbody>\n",
       "</table>\n",
       "</div>"
      ],
      "text/plain": [
       "   solv                                             smiles\n",
       "0 -0.77  OCC3OC(OCC2OC(OC(C#N)c1ccccc1)C(O)C(O)C2O)C(O)...\n",
       "1 -3.30                             Cc1occc1C(=O)Nc2ccccc2\n",
       "2 -2.06                               CC(C)=CCCC(C)=CC(=O)\n",
       "3 -7.87                 c1ccc2c(c1)ccc3c2ccc4c5ccccc5ccc43\n",
       "4 -1.33                                            c1ccsc1"
      ]
     },
     "execution_count": 58,
     "metadata": {},
     "output_type": "execute_result"
    }
   ],
   "source": [
    "url_smi = 'https://raw.githubusercontent.com/chchae/VSLecture/master/data/delaney-processed.csv'\n",
    "df_smi = pd.read_csv( url_smi, delimiter=',', usecols=['smiles', 'measured log solubility in mols per litre'] )\n",
    "df_smi = df_smi.rename( columns={ 'measured log solubility in mols per litre':'solv' } )\n",
    "df_smi.head()\n",
    "#df_smi.size"
   ]
  },
  {
   "cell_type": "code",
   "execution_count": 46,
   "metadata": {
    "colab": {},
    "colab_type": "code",
    "id": "-sxiamsAkPsa"
   },
   "outputs": [
    {
     "data": {
      "text/plain": [
       "(-11.6, 1.58)"
      ]
     },
     "execution_count": 46,
     "metadata": {},
     "output_type": "execute_result"
    }
   ],
   "source": [
    "PandasTools.AddMoleculeColumnToFrame( df_smi, 'smiles', 'Molecule' )\n",
    "df_smi.head()\n",
    "#df_smi.sort_values( by=['solv'], ascending=False ).head()\n",
    "df_smi['solv'].min(), df_smi['solv'].max()\n",
    "#high_sol = df_smi.loc[ df_smi['solv'] >= 1.5 ]\n",
    "#high_sol"
   ]
  },
  {
   "cell_type": "code",
   "execution_count": 47,
   "metadata": {
    "colab": {},
    "colab_type": "code",
    "id": "T-_48b6PmRtg"
   },
   "outputs": [
    {
     "data": {
      "text/html": [
       "<div>\n",
       "<style scoped>\n",
       "    .dataframe tbody tr th:only-of-type {\n",
       "        vertical-align: middle;\n",
       "    }\n",
       "\n",
       "    .dataframe tbody tr th {\n",
       "        vertical-align: top;\n",
       "    }\n",
       "\n",
       "    .dataframe thead th {\n",
       "        text-align: right;\n",
       "    }\n",
       "</style>\n",
       "<table border=\"1\" class=\"dataframe\">\n",
       "  <thead>\n",
       "    <tr style=\"text-align: right;\">\n",
       "      <th></th>\n",
       "      <th>solv</th>\n",
       "      <th>smiles</th>\n",
       "      <th>Molecule</th>\n",
       "      <th>mw</th>\n",
       "      <th>MolLogP</th>\n",
       "      <th>NumRotatableBonds</th>\n",
       "      <th>AromP</th>\n",
       "    </tr>\n",
       "  </thead>\n",
       "  <tbody>\n",
       "    <tr>\n",
       "      <th>0</th>\n",
       "      <td>-0.77</td>\n",
       "      <td>OCC3OC(OCC2OC(OC(C#N)c1ccccc1)C(O)C(O)C2O)C(O)...</td>\n",
       "      <td><img data-content=\"rdkit/molecule\" src=\"data:image/png;base64,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\" alt=\"Mol\"/></td>\n",
       "      <td>457.432</td>\n",
       "      <td>-3.10802</td>\n",
       "      <td>7</td>\n",
       "      <td>0.187500</td>\n",
       "    </tr>\n",
       "    <tr>\n",
       "      <th>1</th>\n",
       "      <td>-3.30</td>\n",
       "      <td>Cc1occc1C(=O)Nc2ccccc2</td>\n",
       "      <td><img data-content=\"rdkit/molecule\" src=\"data:image/png;base64,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\" alt=\"Mol\"/></td>\n",
       "      <td>201.225</td>\n",
       "      <td>2.84032</td>\n",
       "      <td>2</td>\n",
       "      <td>0.733333</td>\n",
       "    </tr>\n",
       "    <tr>\n",
       "      <th>2</th>\n",
       "      <td>-2.06</td>\n",
       "      <td>CC(C)=CCCC(C)=CC(=O)</td>\n",
       "      <td><img data-content=\"rdkit/molecule\" src=\"data:image/png;base64,iVBORw0KGgoAAAANSUhEUgAAAMgAAADICAIAAAAiOjnJAAAABmJLR0QA/wD/AP+gvaeTAAAQr0lEQVR4nO3de1ST9R8H8M82UMZFUVTEBBUDUSg4qCgiuskQZlph4kmPxjE6eDnFsfzD7Kgcy0N2FT2lZ+U5pZ6s6HhUsphjsEimiVM0EUS5hcplhAIBsTG23x/ffHx+M3Fs++4Z6/P6y76Pe76f2Xvf5/J9LjyTyQQI2Ruf6wKQa8JgISowWIgKDBaiAoOFqMBgISowWIgKDBaiAoOFqMBgISowWIgKDBaiAoOFqMBgISowWIgKDBaiAoOFqMBgISowWIgKDBaiAoOFqMBgISowWIgKDBaiAoOFqMBgISowWIgKDBaiAoOFqMBgISowWIgKDBaiAoOFqMBgISowWIgKDBaiAoOFqMBgISowWIgKDBaiAoOFqMBgISowWIgKDBaiAoOFqMBgISowWIgKDBaiAoOFqMBgISowWIgKDBaiAoPl4srKymJjY+/evevgfjFYruzy5csJCQm//fZbTk6Og7vmmUwmB3eJHOP3339ftGhRW1vb8uXLv//+ezc3N0f2jsFyTVVVVSKRqLm5WSqVnjhxYvjw4Q4uAIPlgm7evCkSiZqampKSkk6dOuX4VAEGy/VUV1cvXLiwsbExMTExLy/Pw8ODkzIwWC6loaFh4cKF9fX18fHx+fn5Xl5eXFWCwXIdt2/fXrhwYV1dXVxcnFwu9/b25rAYPN3gIu7cuSMWi+vq6mJjY/Pz87lNFeCI5RpaWlrEYnFlZWV0dLRSqRw1ahTXFWGwhj6tVisWiysqKqKiogoLC0ePHs11RQC4KRzqWltbExISKioqnn32WaVS6SSpAgzWkNbe3i6VSsvLy8PCwhQKhZ+fH9cVPYTBsidH7ld0dHQkJiZeunQpNDS0qKjI39/fYV1bwqHzRy6sra1t3759CoXCYDBIJBKJRBIfH0/vlHdnZ+fixYs1Gk1ISIhKpQoICKDUkfVMyGb379+Pjo4GAD7/4RbAy8srKSlpz549Fy5cMBgMduyuq6trwYIFADBp0qT6+no7rtmOMFi26ujoiImJAYCQkJCqqqqCgoKtW7fOnDmTx+MxIfP29pZIJHv27NFoNP39/bZ0193dLRKJACAoKKi2ttZe38LuMFg2GWDw0Gq1ubm5mZmZZiHz8fFhQmY0GgfVXU9Pz6JFiwBg4sSJNTU1dv0qdobBsp7lg0dTU1Nubm5GRsaUKVPY+yHjxo1LTU2VyWTl5eVP7E6n0y1ZsgQA/P39Kysr7fc9qMBgWcnqwePu3bskZEFBQeyQBQQEkJDV1dU9+imdTrd06VKSxevXr9vta1CDwbKGTqd77rnnbB88ampqZDJZamrqmDFj2CELDg5eu3atTCZraGgwmUx6vf75558HgLFjx167ds1+34MiDNag6XS6ZcuW2Xfw6O/vv3Llyt69e5ctWzZy5Eh2yMLDw6dPnw4Afn5+V69etUt3DoDBGhy9Xv/CCy9QHTwMBoNGo8nJyUlNTSUhCwwM9PLyunjxIo3uKMFgDYLBYHj55ZcBwNfX99KlSw7oUa/X5+fnCwQCd3f3jo4OB/RoLxgsSxkMhtWrVwPAyJEjHTx4zJs3DwBOnjzpyE5thHOFFjEajevWrTt27NiIESMUCsWsWbMc2XtSUhIAnDlzxpGd2orrZA8BRqNx/fr1AODl5VVcXOz4Ai5cuAAAkydPdnzXVnPeYGk0mq6uLq6rMBmNxo0bNwKAp6enSqXipIb+/v6xY8cCQFVVFScFWMFJg6VWq318fObPn2+Wrf7+/uLi4m3btmVnZ58/f76vr49qGUaj8fXXXwcAoVBYWFhItS82lUq1ZcuWlpYWpmXVqlUAsG/fPofVYCNnDNbly5fJVdsrV65kXxdANkk8Ho+5HMXLy8tek7v/auvWrQAwbNiwn376ye4rHwDZqTp69CjT8vXXXwPAkiVLHFmGLZwuWGVlZeT62hUrVrAHJPbgsWPHjg0bNkybNo29szh69OiUlJT9+/dbMu9miW3btpFU/fjjj3ZZoeU+/fRTAFizZg3T0tTUxOPxhEJhT0+Pg4uxjnMF6+rVq+T62uXLl5tt5pjB4/Tp00xjc3MzmXcLDg5mh4xM7ubk5FhxBQGxfft2AHB3dz916pSt32rwKioqAGDMmDHsYTgqKgoAFAqF4+uxghMFq7Kycvz48QAglUp7e3vZi9555x2Sqry8vMd9nJncnTRpEjtk48ePJ5O7ll+9tGvXLgAQCATffvutTV/JBuRbaDQapuXtt98GgC1btnBV0qA4S7CqqqrI9bVJSUlmqdqxYwcZPCw/Q0gmd9euXfvUU0+xQ8ZcQfDHH3887rOffPIJSdU333xj01eyTUZGBgDs3r2baVGpVAAQERHBYVWWc4pg3bp1a8KECQCQmJj4999/sxfZPngwVxCY3RoVHByckZGRm5vb2trK/OW9e/cCAJ/PZ+84c+L48eMAEB8fz7To9foRI0YAwAC/CufBfbDq6+snT55M/hHNTi7Yd/AwGAwXL1788MMPpVIp+w50Pp8fGRm5efPmDRs2AACPx5PJZLZ3Z6OOjg53d3c3N7f29namkcx/Hzp0iMPCLMRxsBoaGshFlXFxcX/99Rd7ETN4HDlyxO79kisI9uzZs3TpUh8fH2ZvjMfjffHFF3bvzjrx8fEAcPz4cablwIEDAJCamsphVRbiMli3b9+eOnUqAMTGxnZ2drIX7d+/n8fjOWbw6O3tValUO3fulMlkJSUltLuz3O7duwEgIyODaamtrQUAX19f2meGbcdZsJqbm8PCwgAgOjr63r177EWHDh0iqTpw4ABX5TkDjUYDAIGBgezG0NBQAFCr1VxVZSFugtXS0jJjxgwAiIqKamtrYy/66quv+Hw+j8f77LPPOKnNefT3948bNw4AKioqmMY33ngDAHbu3MlhYZbgIFharTYiIgIAIiMj//zzT/aiw4cPk3s+P/jgA8cX5oTWrFkDAHv37mVaTp8+DQAxMTEcVmUJRweLuWk4LCysubmZveiHH34gj4zOzs52cFVO6+jRowCQnJzMtHR3d3t4ePD5fK1Wy2FhTzRQsPLy8jQajR1vD+/t7SWpmj59ulmqjh8/TlL13nvv2as7F6DVavl8voeHB3uKUCKRAMCxY8c4LOyJHhsso9FIHmBix9vDTSbTxx9/HBIScvfuXXbjiRMn3N3dASArK8vG9bse8lOUy+VMy0cffQQAaWlp3BX1ZI8NVmdnZ3p6+qOTuytXrjx48OCNGzes7tLsLKhcLieXwQyVWTAHI/Okb775JtNy7do1ctbNuvl1x3jyPlZjY+O/Tu76+/uTeTdbHiKgUCjIg8g3b95s9UpcW3FxMdl5YDcGBgYCQFlZGVdVPdHgdt5ramoOHz6ckZExceLEwU7uPkqpVAqFQgDIzMwcZNn/IX19feTuQvZDR9LT0wHg/fff57CwgVl/VMhM7po9oZBM7h4+fPjOnTsDfLykpIRM2KWnpzvzkO4MUlJSAIA9CZGbmwsAIpGIw6oGZofTDf39/eXl5SRkvr6+/3oFgdlZ0HPnzpEZunXr1tG4pNjFyGQysynC+/fvu7m5OfNdrHY+j8We3CXXeBACgWDGjBkkZAUFBWRRWloapsoSLS0tcrnc7KJkJ7+LleIJ0t7e3uLi4qysrAULFgwbNowJGXnBy+rVq+37AMX/GnKl2saNG7ku5N856AUCPT09arVapVLJ5fJbt265ubm1trY6+NWMLqa0tHTu3LlCoXDevHnkcbrR0dHsRwdyy9FvpjAajQEBAVqt9saNG2a32aBBMRqNZ8+eJY8UJPz9/cUPhISEcFcaAHBxiz15tEZOTo7ju3Y9dryFxL44eJfOkSNH0tLSpFLpzz//7OCuXVttba1SqSwpKSkqKmK/tj4gIGD+/PkSiSQ5Odns+ZT0cBCslpaWgIAADw+PtrY2coIU2R0JmVKpLCwsvHfvHtMeHBxMdsjEYrHZ8ynti5u3f0VHR5eVlZ05c2bx4sWO7/0/xWg0VlZWqtVqpVJZUFDQ3t7OLGJCJpFI7P8mOk42wOTu9bfeeouT3v+zmLOMEomEva0QCAQzZ87MzMzMzc1l3xRkC25GrOLiYpFIFB4eXl5e7vjeEQDodLrz58+rVKqioqLS0lK9Xk/a3d3d58yZs2rVqk2bNvX29v7666+mBw8pGRy7xHOw9Ho9mVgdEvdeurzu7u6CgoKsrCyJREJOZW/atMlkMuXl5QHA3LlzrVgnZ29YTUlJOXny5Jdffvnaa69xUgAy09DQkJ2drdPpXnrppYkTJ0ZFRXV3d/v5+RkMhpaWlkG/DNHO4bfYwYMHAWDFihVcFYDMkCcleXp6sp9yQN6+8d133w12bZw93DY5ORkAFApFX18fVzUgtvHjx0dGRvb09Jw9e5ZptPq5upwFa/LkydOmTevs7CwtLeWqBmSG/NrZMSIt5Ir7Qa2Ky8dxD8mnTLu0R/+PPPPMMxMmTGhqaiIX2luO+2DJ5XIOa0BscXFxI0aMKC8vb2hoIC08Hs+63z+XwRKLxUKh8NKlS1qtlsMyEMPd3V0sFgNAQUEB0zj0giUUCufPn280GpVKJYdlILZHY7R48WKBQHD27Nmuri7L18PxK09wN8vZkL31goICg8FAWkaNGjV79my9Xv/LL79Yvh6Og8WcdBjsQQeiZMqUKaGhoe3t7eQ9K4QVv3+OgxUeHh4UFNTc3HzlyhVuK0GMR086WHGYxf3bv8iVM7g1dB6Pjk8xMTFKqbRs+HCoqbFwJdwHC3eznI1IJPLw8DDdufN3aytpEQgECT4+3tevg8WDFvfBkkgkbm5uarW6o6OD61oQAICnp6c2JaW0sVHIOukA5MoZi3//3AfL19d3zpw5fX19gzroQFT5zJwJAKBQPGySSoHHg6Ii0OksWQP3wQLcGjohZnxijtYDAiAiArq7Qa22ZAVOFKz8/HyuC0EPRERAYCA0N8PVqw8bk5MBLN0aOkWwZs2aNW7cuPr6+ps3b3JdC3qA3OfC3lsnw5hl++9OESw+n5+QkAA4Ie1UHt1bj48Hb2+4dg0aG5/4aacIFuBulhNKTAQ3N1CrobPzn5Zhw0AkApPJkq2hEwXrlVdeefXVV7kuBD3g6wsxMdDXB+yjdYtPOnB2MwUaAt59F7KyYNMm+Pzzf1qqqyEkBEaNgtZWEAgG+KizjFjIGZHxiX20/vTTMHUq3L8PFy8O/FEMFnq82bNh7Fioq4Nbtx42JieDpydUVw/8UQwWejw+HxISAP7/FMOuXdDWBmvWDPxRfKYeGtDy5WAwAPsReZbduYo778gy1dWQlgbnzgEAZGSATDbwX8dNIbJMWhps3w4mE5hM8OKLsH79wH8dg4UskJ8P27eDVPrPfzJ/eDwMFrLKjBkDHxhisJBVKirg6acHWI5HhcgCUinExf3zB/j/U6aPgUeFyDKDPCrEYCEqcB8LUYHBQlRgsBAVGCxEBQYLUYHBQlRgsBAVGCxEBQYLUYHBQlRgsBAVGCxEBQYLUYHBQlRgsBAVGCxEBQYLUYHBQlRgsBAVGCxEBQYLUYHBQlRgsBAVGCxEBQYLUYHBQlRgsBAVGCxEBQYLUYHBQlRgsBAVGCxEBQYLUYHBQlRgsBAVGCxEBQYLUYHBQlRgsBAVGCxEBQYLUYHBQlRgsBAVGCxEBQYLUYHBQlRgsBAVGCxEBQYLUYHBQlRgsBAVGCxEBQYLUfE/SXXwJIcvZ+cAAAAASUVORK5CYII=\" alt=\"Mol\"/></td>\n",
       "      <td>152.237</td>\n",
       "      <td>2.87800</td>\n",
       "      <td>4</td>\n",
       "      <td>0.000000</td>\n",
       "    </tr>\n",
       "    <tr>\n",
       "      <th>3</th>\n",
       "      <td>-7.87</td>\n",
       "      <td>c1ccc2c(c1)ccc3c2ccc4c5ccccc5ccc43</td>\n",
       "      <td><img data-content=\"rdkit/molecule\" src=\"data:image/png;base64,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\" alt=\"Mol\"/></td>\n",
       "      <td>278.354</td>\n",
       "      <td>6.29940</td>\n",
       "      <td>0</td>\n",
       "      <td>1.000000</td>\n",
       "    </tr>\n",
       "    <tr>\n",
       "      <th>4</th>\n",
       "      <td>-1.33</td>\n",
       "      <td>c1ccsc1</td>\n",
       "      <td><img data-content=\"rdkit/molecule\" src=\"data:image/png;base64,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\" alt=\"Mol\"/></td>\n",
       "      <td>84.143</td>\n",
       "      <td>1.74810</td>\n",
       "      <td>0</td>\n",
       "      <td>1.000000</td>\n",
       "    </tr>\n",
       "  </tbody>\n",
       "</table>\n",
       "</div>"
      ],
      "text/plain": [
       "   solv                                             smiles  \\\n",
       "0 -0.77  OCC3OC(OCC2OC(OC(C#N)c1ccccc1)C(O)C(O)C2O)C(O)...   \n",
       "1 -3.30                             Cc1occc1C(=O)Nc2ccccc2   \n",
       "2 -2.06                               CC(C)=CCCC(C)=CC(=O)   \n",
       "3 -7.87                 c1ccc2c(c1)ccc3c2ccc4c5ccccc5ccc43   \n",
       "4 -1.33                                            c1ccsc1   \n",
       "\n",
       "                                            Molecule       mw  MolLogP  \\\n",
       "0  <img data-content=\"rdkit/molecule\" src=\"data:i...  457.432 -3.10802   \n",
       "1  <img data-content=\"rdkit/molecule\" src=\"data:i...  201.225  2.84032   \n",
       "2  <img data-content=\"rdkit/molecule\" src=\"data:i...  152.237  2.87800   \n",
       "3  <img data-content=\"rdkit/molecule\" src=\"data:i...  278.354  6.29940   \n",
       "4  <img data-content=\"rdkit/molecule\" src=\"data:i...   84.143  1.74810   \n",
       "\n",
       "   NumRotatableBonds     AromP  \n",
       "0                  7  0.187500  \n",
       "1                  2  0.733333  \n",
       "2                  4  0.000000  \n",
       "3                  0  1.000000  \n",
       "4                  0  1.000000  "
      ]
     },
     "execution_count": 47,
     "metadata": {},
     "output_type": "execute_result"
    }
   ],
   "source": [
    "def AromaticAtoms(m) :\n",
    "    aa_atoms = [ m.GetAtomWithIdx(i).GetIsAromatic() for i in range( m.GetNumAtoms() ) ]\n",
    "    aa_cnt = sum( 1 for a in aa_atoms if a == True )\n",
    "    return aa_cnt / Descriptors.HeavyAtomCount(m)\n",
    "\n",
    "df_smi['mw'] = [ Descriptors.MolWt(mol) for mol in df_smi[ 'Molecule' ] ]\n",
    "df_smi['MolLogP'] = [ Descriptors.MolLogP(mol) for mol in df_smi[ 'Molecule' ] ]\n",
    "df_smi['NumRotatableBonds'] = [ Descriptors.NumRotatableBonds(mol) for mol in df_smi[ 'Molecule' ] ]\n",
    "df_smi['AromP'] = [ AromaticAtoms(mol) for mol in df_smi[ 'Molecule' ] ]\n",
    "df_smi.head()"
   ]
  },
  {
   "cell_type": "code",
   "execution_count": 48,
   "metadata": {
    "colab": {},
    "colab_type": "code",
    "id": "s5AH6Nz-owKK"
   },
   "outputs": [
    {
     "data": {
      "text/html": [
       "<div>\n",
       "<style scoped>\n",
       "    .dataframe tbody tr th:only-of-type {\n",
       "        vertical-align: middle;\n",
       "    }\n",
       "\n",
       "    .dataframe tbody tr th {\n",
       "        vertical-align: top;\n",
       "    }\n",
       "\n",
       "    .dataframe thead th {\n",
       "        text-align: right;\n",
       "    }\n",
       "</style>\n",
       "<table border=\"1\" class=\"dataframe\">\n",
       "  <thead>\n",
       "    <tr style=\"text-align: right;\">\n",
       "      <th></th>\n",
       "      <th>MolLogP</th>\n",
       "      <th>mw</th>\n",
       "      <th>NumRotatableBonds</th>\n",
       "      <th>AromP</th>\n",
       "      <th>solv</th>\n",
       "    </tr>\n",
       "  </thead>\n",
       "  <tbody>\n",
       "    <tr>\n",
       "      <th>0</th>\n",
       "      <td>-3.10802</td>\n",
       "      <td>457.432</td>\n",
       "      <td>7</td>\n",
       "      <td>0.187500</td>\n",
       "      <td>-0.770</td>\n",
       "    </tr>\n",
       "    <tr>\n",
       "      <th>1</th>\n",
       "      <td>2.84032</td>\n",
       "      <td>201.225</td>\n",
       "      <td>2</td>\n",
       "      <td>0.733333</td>\n",
       "      <td>-3.300</td>\n",
       "    </tr>\n",
       "    <tr>\n",
       "      <th>2</th>\n",
       "      <td>2.87800</td>\n",
       "      <td>152.237</td>\n",
       "      <td>4</td>\n",
       "      <td>0.000000</td>\n",
       "      <td>-2.060</td>\n",
       "    </tr>\n",
       "    <tr>\n",
       "      <th>3</th>\n",
       "      <td>6.29940</td>\n",
       "      <td>278.354</td>\n",
       "      <td>0</td>\n",
       "      <td>1.000000</td>\n",
       "      <td>-7.870</td>\n",
       "    </tr>\n",
       "    <tr>\n",
       "      <th>4</th>\n",
       "      <td>1.74810</td>\n",
       "      <td>84.143</td>\n",
       "      <td>0</td>\n",
       "      <td>1.000000</td>\n",
       "      <td>-1.330</td>\n",
       "    </tr>\n",
       "    <tr>\n",
       "      <th>...</th>\n",
       "      <td>...</td>\n",
       "      <td>...</td>\n",
       "      <td>...</td>\n",
       "      <td>...</td>\n",
       "      <td>...</td>\n",
       "    </tr>\n",
       "    <tr>\n",
       "      <th>1123</th>\n",
       "      <td>2.50850</td>\n",
       "      <td>197.381</td>\n",
       "      <td>0</td>\n",
       "      <td>0.000000</td>\n",
       "      <td>-1.710</td>\n",
       "    </tr>\n",
       "    <tr>\n",
       "      <th>1124</th>\n",
       "      <td>0.10710</td>\n",
       "      <td>219.266</td>\n",
       "      <td>1</td>\n",
       "      <td>0.000000</td>\n",
       "      <td>0.106</td>\n",
       "    </tr>\n",
       "    <tr>\n",
       "      <th>1125</th>\n",
       "      <td>2.99000</td>\n",
       "      <td>246.359</td>\n",
       "      <td>7</td>\n",
       "      <td>0.000000</td>\n",
       "      <td>-3.091</td>\n",
       "    </tr>\n",
       "    <tr>\n",
       "      <th>1126</th>\n",
       "      <td>2.05240</td>\n",
       "      <td>72.151</td>\n",
       "      <td>1</td>\n",
       "      <td>0.000000</td>\n",
       "      <td>-3.180</td>\n",
       "    </tr>\n",
       "    <tr>\n",
       "      <th>1127</th>\n",
       "      <td>5.60150</td>\n",
       "      <td>365.964</td>\n",
       "      <td>5</td>\n",
       "      <td>0.315789</td>\n",
       "      <td>-4.522</td>\n",
       "    </tr>\n",
       "  </tbody>\n",
       "</table>\n",
       "<p>1128 rows × 5 columns</p>\n",
       "</div>"
      ],
      "text/plain": [
       "      MolLogP       mw  NumRotatableBonds     AromP   solv\n",
       "0    -3.10802  457.432                  7  0.187500 -0.770\n",
       "1     2.84032  201.225                  2  0.733333 -3.300\n",
       "2     2.87800  152.237                  4  0.000000 -2.060\n",
       "3     6.29940  278.354                  0  1.000000 -7.870\n",
       "4     1.74810   84.143                  0  1.000000 -1.330\n",
       "...       ...      ...                ...       ...    ...\n",
       "1123  2.50850  197.381                  0  0.000000 -1.710\n",
       "1124  0.10710  219.266                  1  0.000000  0.106\n",
       "1125  2.99000  246.359                  7  0.000000 -3.091\n",
       "1126  2.05240   72.151                  1  0.000000 -3.180\n",
       "1127  5.60150  365.964                  5  0.315789 -4.522\n",
       "\n",
       "[1128 rows x 5 columns]"
      ]
     },
     "execution_count": 48,
     "metadata": {},
     "output_type": "execute_result"
    }
   ],
   "source": [
    "x = df_smi[ [ 'MolLogP', 'mw', 'NumRotatableBonds', 'AromP' ] ]\n",
    "y = df_smi[ 'solv' ]\n",
    "pd.concat( [x,y], axis=1 )"
   ]
  },
  {
   "cell_type": "code",
   "execution_count": 49,
   "metadata": {
    "colab": {},
    "colab_type": "code",
    "id": "0LE8AHllu--M"
   },
   "outputs": [],
   "source": [
    "from sklearn.model_selection import  train_test_split\n",
    "\n",
    "X_train, X_test, Y_train, Y_test = train_test_split( x, y, test_size=0.3 )"
   ]
  },
  {
   "cell_type": "code",
   "execution_count": 50,
   "metadata": {
    "colab": {},
    "colab_type": "code",
    "id": "zs434szgvSUI"
   },
   "outputs": [],
   "source": [
    "from sklearn import linear_model\n",
    "from sklearn.metrics import mean_squared_error, r2_score\n",
    "\n",
    "model = linear_model.LinearRegression()\n",
    "model.fit( X_train, Y_train )\n",
    "\n",
    "Y_train_pred = model.predict( X_train )\n",
    "Y_test_pred = model.predict( X_test )"
   ]
  },
  {
   "cell_type": "code",
   "execution_count": 51,
   "metadata": {
    "colab": {},
    "colab_type": "code",
    "id": "GRDM4gYkcJIf"
   },
   "outputs": [
    {
     "name": "stdout",
     "output_type": "stream",
     "text": [
      "Coeff =  [-0.75716131 -0.00592879  0.00240802 -0.44366269]  Intercept =  0.15577462537277542\n",
      "MSE = 1.00\n",
      "R2 = 0.78\n",
      "MSE = 1.07\n",
      "R2 = 0.74\n",
      "LogS = 0.156 + -0.757 LogP + -0.006 MW + 0.002 RB + -0.444 AP\n",
      "Delaney : LogS = 0.16 - 0.63 cLogP - 0.0062 MW + 0.066 RB - 0.74 AP\n"
     ]
    }
   ],
   "source": [
    "print( 'Coeff = ', model.coef_, ' Intercept = ', model.intercept_ )\n",
    "\n",
    "print( 'MSE = %.2f' % mean_squared_error( Y_train, Y_train_pred ) )\n",
    "print( 'R2 = %.2f' % r2_score( Y_train, Y_train_pred ) )\n",
    "\n",
    "print( 'MSE = %.2f' % mean_squared_error( Y_test, Y_test_pred ) )\n",
    "print( 'R2 = %.2f' % r2_score( Y_test, Y_test_pred ) )\n",
    "\n",
    "print( 'LogS = %.3f + %.3f LogP + %.3f MW + %.3f RB + %.3f AP' % ( model.intercept_, model.coef_[0], model.coef_[1], model.coef_[2], model.coef_[3],) )\n",
    "print( 'Delaney : LogS = 0.16 - 0.63 cLogP - 0.0062 MW + 0.066 RB - 0.74 AP' )"
   ]
  },
  {
   "cell_type": "code",
   "execution_count": 52,
   "metadata": {
    "colab": {},
    "colab_type": "code",
    "id": "X0ROwQMWBLAW"
   },
   "outputs": [],
   "source": [
    "import matplotlib.pyplot as plt\n",
    "from rdkit.Chem.Draw import rdDepictor, rdMolDraw2D"
   ]
  },
  {
   "cell_type": "code",
   "execution_count": 53,
   "metadata": {
    "colab": {},
    "colab_type": "code",
    "id": "1GnCbI7vAEKj"
   },
   "outputs": [],
   "source": [
    "def moltosvg(mol,molSize=(225,75),kekulize=True):\n",
    "    mc = Chem.Mol(mol.ToBinary())\n",
    "    if kekulize:\n",
    "        try:\n",
    "            Chem.Kekulize(mc)\n",
    "        except:\n",
    "            mc = Chem.Mol(mol.ToBinary())\n",
    "    if not mc.GetNumConformers():\n",
    "        rdDepictor.Compute2DCoords(mc)\n",
    "    drawer = rdMolDraw2D.MolDraw2DSVG(molSize[0],molSize[1])\n",
    "    drawer.DrawMolecule(mc)\n",
    "    drawer.FinishDrawing()\n",
    "    svg = drawer.GetDrawingText()\n",
    "    return svg.replace('svg:','')"
   ]
  },
  {
   "cell_type": "code",
   "execution_count": 54,
   "metadata": {
    "colab": {},
    "colab_type": "code",
    "id": "ePZ5lOiE4l_H"
   },
   "outputs": [
    {
     "data": {
      "image/png": "[encoded data removed]",
      "text/plain": [
       "<Figure size 792x360 with 2 Axes>"
      ]
     },
     "metadata": {
      "needs_background": "light"
     },
     "output_type": "display_data"
    }
   ],
   "source": [
    "import matplotlib.pyplot as plt\n",
    "\n",
    "plt.figure( figsize=(11,5) )\n",
    "\n",
    "plt.subplot( 1, 2, 1 )\n",
    "plt.scatter( x=Y_train, y=Y_train_pred, c=\"#7CAE00\", alpha=0.3 )\n",
    "z = np.polyfit( Y_train, Y_train_pred, 1 )\n",
    "p = np.poly1d(z)\n",
    "plt.plot( Y_train, p(Y_train), \"#F8766D\" )\n",
    "plt.xlabel( 'Experimental LogS' )\n",
    "plt.ylabel( 'Predicted LogS' )\n",
    "\n",
    "plt.subplot( 1, 2, 2 )\n",
    "plt.scatter( x=Y_test, y=Y_test_pred, c=\"#F8766D\", alpha=0.3 )\n",
    "z = np.polyfit( Y_test, Y_test_pred, 1 )\n",
    "p = np.poly1d(z)\n",
    "plt.plot( Y_test, p(Y_test), \"#F8766D\" )\n",
    "plt.xlabel( 'Experimental LogS' )\n",
    "plt.ylabel( 'Predicted LogS' )\n",
    "\n",
    "plt.show()"
   ]
  },
  {
   "cell_type": "code",
   "execution_count": null,
   "metadata": {},
   "outputs": [],
   "source": []
  }
 ],
 "metadata": {
  "colab": {
   "authorship_tag": "ABX9TyPOdg1/b66z3RV/h91ryZOU",
   "collapsed_sections": [],
   "name": "RDKit_Pandas_Solubility.ipynb",
   "private_outputs": true,
   "provenance": []
  },
  "kernelspec": {
   "display_name": "Python 3",
   "language": "python",
   "name": "python3"
  },
  "language_info": {
   "codemirror_mode": {
    "name": "ipython",
    "version": 3
   },
   "file_extension": ".py",
   "mimetype": "text/x-python",
   "name": "python",
   "nbconvert_exporter": "python",
   "pygments_lexer": "ipython3",
   "version": "3.7.7"
  }
 },
 "nbformat": 4,
 "nbformat_minor": 1
}
