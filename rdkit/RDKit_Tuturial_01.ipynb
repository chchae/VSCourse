{
 "cells": [
  {
   "cell_type": "raw",
   "metadata": {},
   "source": [
    "#! wget -c https://repo.continuum.io/miniconda/Miniconda3-latest-Linux-x86_64.sh\n",
    "#! chmod +x Miniconda3-latest-Linux-x86_64.sh\n",
    "#! bash ./Miniconda3-latest-Linux-x86_64.sh -b -f -p /usr/local\n",
    "\n",
    "! wget -c https://repo.anaconda.com/miniconda/Miniconda3-py37_4.8.3-Linux-x86_64.sh\n",
    "! chmod +x Miniconda3-py37_4.8.3-Linux-x86_64.sh\n",
    "! bash ./Miniconda3-py37_4.8.3-Linux-x86_64.sh -b -f -p /usr/local\n",
    "\n",
    "! conda install -q -y -c rdkit rdkit \n",
    "\n",
    "import sys\n",
    "sys.path.append('/usr/local/lib/python3.7/site-packages/')\n",
    "!pip install git+https://github.com/keras-team/keras-tuner.git"
   ]
  },
  {
   "cell_type": "code",
   "execution_count": null,
   "metadata": {},
   "outputs": [],
   "source": [
    "import warnings , os, re\n",
    "os.environ['TF_CPP_MIN_LOG_LEVEL'] = '3'\n",
    "\n",
    "import numpy as np\n",
    "import pandas as pd\n",
    "import matplotlib.pyplot as plt\n",
    "import random\n",
    "from sklearn.model_selection import train_test_split\n",
    "import tensorflow as tf\n",
    "\n",
    "import tensorflow.keras as keras\n",
    "from tensorflow.keras import layers, models\n",
    "from tensorflow.keras.layers import Dense\n",
    "from tensorflow.keras.models import Sequential\n",
    "from keras.utils import np_utils\n",
    "\n",
    "from kerastuner.tuners import RandomSearch, BayesianOptimization\n",
    "from kerastuner.engine.hypermodel import HyperModel\n",
    "from kerastuner.engine.hyperparameters import HyperParameters, Choice\n",
    "\n",
    "from rdkit import Chem, DataStructs\n",
    "from rdkit.Chem import AllChem, Draw, rdDistGeom\n",
    "from rdkit.Chem.Draw import IPythonConsole\n",
    "from rdkit import RDLogger\n",
    "RDLogger.logger().setLevel(RDLogger.CRITICAL)"
   ]
  },
  {
   "cell_type": "markdown",
   "metadata": {},
   "source": [
    "Create molecule"
   ]
  },
  {
   "cell_type": "code",
   "execution_count": null,
   "metadata": {},
   "outputs": [],
   "source": [
    "ala = Chem.MolFromSmiles( 'N[C@@H](C)C(O)=O' )\n",
    "ala"
   ]
  },
  {
   "cell_type": "code",
   "execution_count": null,
   "metadata": {},
   "outputs": [],
   "source": [
    "Chem.MolToSmiles(ala)"
   ]
  },
  {
   "cell_type": "code",
   "execution_count": null,
   "metadata": {},
   "outputs": [],
   "source": [
    "Chem.MolToMolBlock(ala)"
   ]
  },
  {
   "cell_type": "code",
   "execution_count": null,
   "metadata": {},
   "outputs": [],
   "source": [
    "Chem.MolToInchi(ala)"
   ]
  },
  {
   "cell_type": "markdown",
   "metadata": {},
   "source": [
    "3D Coordinates - Geometry optimization"
   ]
  },
  {
   "cell_type": "code",
   "execution_count": null,
   "metadata": {},
   "outputs": [],
   "source": [
    "ala = Chem.MolFromSmiles( 'N[C@@H](C)C(O)=O' )\n",
    "alaH = Chem.AddHs(ala)\n",
    "rdDistGeom.EmbedMolecule(alaH)\n",
    "alaH"
   ]
  },
  {
   "cell_type": "code",
   "execution_count": null,
   "metadata": {
    "scrolled": true
   },
   "outputs": [],
   "source": [
    "ff = AllChem.UFFGetMoleculeForceField(alaH)\n",
    "print( \"Before=\", ff.CalcEnergy() )\n",
    "AllChem.UFFOptimizeMolecule(alaH)\n",
    "print( \"After=\", ff.CalcEnergy() )\n",
    "alaH"
   ]
  },
  {
   "cell_type": "markdown",
   "metadata": {},
   "source": [
    "Descriptors, Fingerprints"
   ]
  },
  {
   "cell_type": "code",
   "execution_count": null,
   "metadata": {},
   "outputs": [],
   "source": [
    "from rdkit.Chem import Descriptors\n",
    "from rdkit.Chem.Fingerprints import FingerprintMols"
   ]
  },
  {
   "cell_type": "code",
   "execution_count": null,
   "metadata": {},
   "outputs": [],
   "source": [
    "phe = Chem.MolFromSmiles('N[C@H](C(O)=O)Cc1ccccc1')\n",
    "print( Descriptors.MolWt(phe), Descriptors.MolLogP(phe), Descriptors.RingCount(phe), Descriptors.TPSA(phe) )\n",
    "phe"
   ]
  },
  {
   "cell_type": "markdown",
   "metadata": {},
   "source": [
    "Database"
   ]
  },
  {
   "cell_type": "code",
   "execution_count": null,
   "metadata": {},
   "outputs": [],
   "source": [
    "def mol_from_smiles( row ) :\n",
    "    smiles = row[ 'smiles' ]\n",
    "    m = Chem.MolFromSmiles( smiles )\n",
    "    activity = row[ 'pChembl_Value' ]\n",
    "    m.SetProp( 'pChembl_Value', str(activity) )\n",
    "    return m\n",
    "\n",
    "\n",
    "url_smi = 'https://raw.githubusercontent.com/chchae/VSLecture/master/data/egfr/ChEMBL27_EGFR_aminopyridine.smi'\n",
    "db_smi = pd.read_table( url_smi, delimiter=' ', names=['smiles', 'pChembl_Value'], header=None, )\n",
    "mols_egfr = [ mol_from_smiles(row) for _, row in db_smi.iterrows() ]\n",
    "\n",
    "print( '%d-molecules read...' % len(mols_egfr) )\n",
    "Draw.MolsToGridImage( mols_egfr[:7], molsPerRow=4, subImgSize=(300,300) )"
   ]
  },
  {
   "cell_type": "markdown",
   "metadata": {},
   "source": [
    "Substructure search"
   ]
  },
  {
   "cell_type": "code",
   "execution_count": null,
   "metadata": {},
   "outputs": [],
   "source": [
    "smiles = 'c1cc(ccc1Nc1ncc(Cl)c(Oc2ccccc2)n1)'\n",
    "query = Chem.MolFromSmiles( smiles )\n",
    "AllChem.Compute2DCoords(query)\n",
    "query"
   ]
  },
  {
   "cell_type": "code",
   "execution_count": null,
   "metadata": {},
   "outputs": [],
   "source": [
    "result = [ x for x in mols_egfr if x.HasSubstructMatch(query) ]\n",
    "print( \"Found = \", len( result ), \" from \", len( mols_egfr ) )\n",
    "for m in result:\n",
    "    AllChem.GenerateDepictionMatching2DStructure( m, query )\n",
    "\n",
    "Draw.MolsToGridImage( result[:10], molsPerRow=3, subImgSize=(300,300), highlightAtomLists=[ m.GetSubstructMatch(query) for m in result ]  )"
   ]
  },
  {
   "cell_type": "markdown",
   "metadata": {},
   "source": [
    "MCS"
   ]
  },
  {
   "cell_type": "code",
   "execution_count": null,
   "metadata": {},
   "outputs": [],
   "source": [
    "from rdkit.Chem import rdFMCS\n",
    "\n",
    "mols_sub = mols_egfr[:20]\n",
    "mcsf = rdFMCS.FindMCS( mols_sub )\n",
    "mcs = Chem.MolFromSmarts( mcsf.smartsString )\n",
    "mcs"
   ]
  },
  {
   "cell_type": "code",
   "execution_count": null,
   "metadata": {},
   "outputs": [],
   "source": [
    "Draw.MolsToGridImage( mols_sub[:10], molsPerRow=3, subImgSize=(250,250), highlightAtomLists=[ m.GetSubstructMatch(mcs) for m in mols_sub ] )"
   ]
  },
  {
   "cell_type": "markdown",
   "metadata": {},
   "source": [
    "R-Group decomposition"
   ]
  },
  {
   "cell_type": "code",
   "execution_count": null,
   "metadata": {},
   "outputs": [],
   "source": [
    "from rdkit.Chem import rdRGroupDecomposition as rdRGD\n",
    "\n",
    "mcsf = rdFMCS.FindMCS( mols_egfr )\n",
    "mcs = Chem.MolFromSmarts( mcsf.smartsString )\n",
    "mcs = query\n",
    "\n",
    "matched,unmatched = rdRGD.RGroupDecompose([mcs],mols_egfr[:],asSmiles=True)\n",
    "print( len(matched), len(unmatched) )\n",
    "print( matched[:3] )\n",
    "Chem.MolFromSmiles( matched[4]['Core'])"
   ]
  },
  {
   "cell_type": "markdown",
   "metadata": {},
   "source": [
    "Fingerprints"
   ]
  },
  {
   "cell_type": "code",
   "execution_count": null,
   "metadata": {},
   "outputs": [],
   "source": [
    "from rdkit.Chem.Fingerprints import FingerprintMols\n",
    "\n",
    "ala = Chem.MolFromSmiles( 'CC(C(=O)O)N' )\n",
    "bi = {}\n",
    "fp = AllChem.GetMorganFingerprintAsBitVect( ala, 2, nBits=1024, bitInfo=bi )\n",
    "#fp_arr = np.zeros( (1, ) )\n",
    "#DataStructs.ConvertToNumpyArray( fp, fp_arr )\n",
    "#np.nonzero( fp_arr )\n",
    "#list( fp.GetOnBits() )\n",
    "\n",
    "mfps = [ ( ala, x, bi ) for x in fp.GetOnBits() ]\n",
    "Draw.DrawMorganBits( mfps, molsPerRow=4, subImgSize=(150,150), legends=[ str(x) for x in fp.GetOnBits() ] )"
   ]
  },
  {
   "cell_type": "markdown",
   "metadata": {},
   "source": [
    "Fingerprint similarity search"
   ]
  },
  {
   "cell_type": "code",
   "execution_count": null,
   "metadata": {},
   "outputs": [],
   "source": [
    "fps = [ FingerprintMols.FingerprintMol(m) for m in mols_egfr ]\n",
    "fp_ref = fps[1]\n",
    "\n",
    "val = []\n",
    "for i in range(len(fps)):\n",
    "    val.append( DataStructs.FingerprintSimilarity( fp_ref, fps[i] ) )\n",
    "print( np.array_str( np.array(val), precision=2 ) )"
   ]
  },
  {
   "cell_type": "markdown",
   "metadata": {},
   "source": [
    "Fingerprint similarity density map"
   ]
  },
  {
   "cell_type": "code",
   "execution_count": null,
   "metadata": {},
   "outputs": [],
   "source": [
    "from rdkit.Chem.Draw import SimilarityMaps\n",
    "\n",
    "ref = mols_sub[0]\n",
    "mol = mols_sub[1]\n",
    "fig, maxweight = SimilarityMaps.GetSimilarityMapForFingerprint( ref, mol, SimilarityMaps.GetMorganFingerprint )\n",
    "\n",
    "Draw.MolsToGridImage( [ref, mol], molsPerRow=3, subImgSize=(300,300) )"
   ]
  },
  {
   "cell_type": "markdown",
   "metadata": {},
   "source": [
    "Fingerprint descriptors map - charge and logP"
   ]
  },
  {
   "cell_type": "code",
   "execution_count": null,
   "metadata": {},
   "outputs": [],
   "source": [
    "from rdkit.Chem import rdMolDescriptors\n",
    "\n",
    "m = mols_sub[0]\n",
    "#m = Chem.MolFromSmiles( 'Cc1c(Nc2nccc(c3cccnc3)n2)cc(NC(c4ccc(CN5CCN(C)CC5)cc4)=O)cc1' )\n",
    "\n",
    "AllChem.ComputeGasteigerCharges( m )\n",
    "\n",
    "charges = [ m.GetAtomWithIdx(i).GetDoubleProp('_GasteigerCharge') for i in range(m.GetNumAtoms()) ]\n",
    "print( \"Charges = \", charges )\n",
    "SimilarityMaps.GetSimilarityMapFromWeights(m, charges, colorMap='jet', contourLines=10)"
   ]
  },
  {
   "cell_type": "code",
   "execution_count": null,
   "metadata": {},
   "outputs": [],
   "source": [
    "logpmr = rdMolDescriptors._CalcCrippenContribs(m)\n",
    "print( \"(LogP, MR) = \", logpmr )\n",
    "SimilarityMaps.GetSimilarityMapFromWeights(mol,[x for x,y in logpmr], colorMap='jet', contourLines=10)"
   ]
  },
  {
   "cell_type": "markdown",
   "metadata": {},
   "source": [
    "SMIRKS - Chemical Reactions"
   ]
  },
  {
   "cell_type": "code",
   "execution_count": null,
   "metadata": {},
   "outputs": [],
   "source": [
    "rxn = AllChem.ReactionFromSmarts('[C:1](=[O:2])-[OD1].[N!H0:3]>>[C:1](=[O:2])[N:3]')\n",
    "rxn"
   ]
  },
  {
   "cell_type": "code",
   "execution_count": null,
   "metadata": {},
   "outputs": [],
   "source": [
    "rx1 = Chem.MolFromSmiles('C(COC(=O)O)C(=O)O')\n",
    "rx2 = Chem.MolFromSmiles('NC')\n",
    "ps = rxn.RunReactants((rx1,rx2) )\n",
    "print( len(ps) )\n",
    "Draw.MolsToGridImage( [ rx1, rx2, ps[0][0], ps[1][0] ], molsPerRow=2, subImgSize=(300,300) )"
   ]
  },
  {
   "cell_type": "markdown",
   "metadata": {},
   "source": [
    "RECAP"
   ]
  },
  {
   "cell_type": "code",
   "execution_count": null,
   "metadata": {},
   "outputs": [],
   "source": [
    "from rdkit.Chem import Recap\n",
    "m = Chem.MolFromSmiles('c1ccccc1OCCOC(=O)CC')\n",
    "# m = Chem.MolFromSmiles( 'Cc1c(Nc2nccc(c3cccnc3)n2)cc(NC(c4ccc(CN5CCN(C)CC5)cc4)=O)cc1' )\n",
    "hierarch = Recap.RecapDecompose(m)\n",
    "print( hierarch.children.keys() )\n",
    "hierarch.mol"
   ]
  },
  {
   "cell_type": "code",
   "execution_count": null,
   "metadata": {},
   "outputs": [],
   "source": []
  }
 ],
 "metadata": {
  "kernelspec": {
   "display_name": "Python [conda env:rdkit] *",
   "language": "python",
   "name": "conda-env-rdkit-py"
  },
  "language_info": {
   "codemirror_mode": {
    "name": "ipython",
    "version": 3
   },
   "file_extension": ".py",
   "mimetype": "text/x-python",
   "name": "python",
   "nbconvert_exporter": "python",
   "pygments_lexer": "ipython3",
   "version": "3.7.7"
  }
 },
 "nbformat": 4,
 "nbformat_minor": 4
}
