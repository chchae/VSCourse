{
  "nbformat": 4,
  "nbformat_minor": 0,
  "metadata": {
    "kernelspec": {
      "display_name": "Python [conda env:rdkit] *",
      "language": "python",
      "name": "conda-env-rdkit-py"
    },
    "language_info": {
      "codemirror_mode": {
        "name": "ipython",
        "version": 3
      },
      "file_extension": ".py",
      "mimetype": "text/x-python",
      "name": "python",
      "nbconvert_exporter": "python",
      "pygments_lexer": "ipython3",
      "version": "3.7.7"
    },
    "colab": {
      "name": "RDKit_Tuturial_01.ipynb",
      "provenance": []
    }
  },
  "cells": [
    {
      "cell_type": "markdown",
      "metadata": {
        "id": "HHZj3pVcMi5J",
        "colab_type": "raw"
      },
      "source": [
        "#! wget -c https://repo.continuum.io/miniconda/Miniconda3-latest-Linux-x86_64.sh\n",
        "#! chmod +x Miniconda3-latest-Linux-x86_64.sh\n",
        "#! bash ./Miniconda3-latest-Linux-x86_64.sh -b -f -p /usr/local\n",
        "\n",
        "! wget -c https://repo.anaconda.com/miniconda/Miniconda3-py37_4.8.3-Linux-x86_64.sh\n",
        "! chmod +x Miniconda3-py37_4.8.3-Linux-x86_64.sh\n",
        "! bash ./Miniconda3-py37_4.8.3-Linux-x86_64.sh -b -f -p /usr/local\n",
        "\n",
        "! conda install -q -y -c rdkit rdkit \n",
        "\n",
        "import sys\n",
        "sys.path.append('/usr/local/lib/python3.7/site-packages/')\n",
        "!pip install git+https://github.com/keras-team/keras-tuner.git"
      ]
    },
    {
      "cell_type": "code",
      "metadata": {
        "id": "Q_rTE7RBMi5K",
        "colab_type": "code",
        "colab": {}
      },
      "source": [
        "import warnings , os, re\n",
        "os.environ['TF_CPP_MIN_LOG_LEVEL'] = '3'\n",
        "\n",
        "import numpy as np\n",
        "import pandas as pd\n",
        "import matplotlib.pyplot as plt\n",
        "import random\n",
        "from sklearn.model_selection import train_test_split\n",
        "import tensorflow as tf\n",
        "\n",
        "import tensorflow.keras as keras\n",
        "from tensorflow.keras import layers, models\n",
        "from tensorflow.keras.layers import Dense\n",
        "from tensorflow.keras.models import Sequential\n",
        "from keras.utils import np_utils\n",
        "\n",
        "from kerastuner.tuners import RandomSearch, BayesianOptimization\n",
        "from kerastuner.engine.hypermodel import HyperModel\n",
        "from kerastuner.engine.hyperparameters import HyperParameters, Choice\n",
        "\n",
        "from rdkit import Chem, DataStructs\n",
        "from rdkit.Chem import AllChem, Draw, rdDistGeom\n",
        "from rdkit.Chem.Draw import IPythonConsole\n",
        "from rdkit import RDLogger\n",
        "RDLogger.logger().setLevel(RDLogger.CRITICAL)"
      ],
      "execution_count": null,
      "outputs": []
    },
    {
      "cell_type": "markdown",
      "metadata": {
        "id": "SVzYfHSZMi5M",
        "colab_type": "text"
      },
      "source": [
        "Create molecule"
      ]
    },
    {
      "cell_type": "code",
      "metadata": {
        "id": "RGL65NZWMi5N",
        "colab_type": "code",
        "colab": {}
      },
      "source": [
        "ala = Chem.MolFromSmiles( 'N[C@@H](C)C(O)=O' )\n",
        "ala"
      ],
      "execution_count": null,
      "outputs": []
    },
    {
      "cell_type": "code",
      "metadata": {
        "id": "IN7iL0B3Mi5P",
        "colab_type": "code",
        "colab": {}
      },
      "source": [
        "Chem.MolToSmiles(ala)"
      ],
      "execution_count": null,
      "outputs": []
    },
    {
      "cell_type": "code",
      "metadata": {
        "id": "hePlhC4SMi5R",
        "colab_type": "code",
        "colab": {}
      },
      "source": [
        "Chem.MolToMolBlock(ala)"
      ],
      "execution_count": null,
      "outputs": []
    },
    {
      "cell_type": "code",
      "metadata": {
        "id": "hvNlxFCAMi5T",
        "colab_type": "code",
        "colab": {}
      },
      "source": [
        "Chem.MolToInchi(ala)"
      ],
      "execution_count": null,
      "outputs": []
    },
    {
      "cell_type": "markdown",
      "metadata": {
        "id": "KOpMne--Mi5V",
        "colab_type": "text"
      },
      "source": [
        "3D Coordinates - Geometry optimization"
      ]
    },
    {
      "cell_type": "code",
      "metadata": {
        "id": "4cNdVXERMi5V",
        "colab_type": "code",
        "colab": {}
      },
      "source": [
        "ala = Chem.MolFromSmiles( 'N[C@@H](C)C(O)=O' )\n",
        "alaH = Chem.AddHs(ala)\n",
        "rdDistGeom.EmbedMolecule(alaH)\n",
        "alaH"
      ],
      "execution_count": null,
      "outputs": []
    },
    {
      "cell_type": "code",
      "metadata": {
        "scrolled": true,
        "id": "uJsmXaAaMi5X",
        "colab_type": "code",
        "colab": {}
      },
      "source": [
        "ff = AllChem.UFFGetMoleculeForceField(alaH)\n",
        "print( \"Before=\", ff.CalcEnergy() )\n",
        "AllChem.UFFOptimizeMolecule(alaH)\n",
        "print( \"After=\", ff.CalcEnergy() )\n",
        "alaH"
      ],
      "execution_count": null,
      "outputs": []
    },
    {
      "cell_type": "markdown",
      "metadata": {
        "id": "p1X5yfAeMi5Z",
        "colab_type": "text"
      },
      "source": [
        "Descriptors, Fingerprints"
      ]
    },
    {
      "cell_type": "code",
      "metadata": {
        "id": "mbj6xrj-Mi5a",
        "colab_type": "code",
        "colab": {}
      },
      "source": [
        "from rdkit.Chem import Descriptors\n",
        "from rdkit.Chem.Fingerprints import FingerprintMols"
      ],
      "execution_count": null,
      "outputs": []
    },
    {
      "cell_type": "code",
      "metadata": {
        "id": "K-u8009VMi5c",
        "colab_type": "code",
        "colab": {}
      },
      "source": [
        "phe = Chem.MolFromSmiles('N[C@H](C(O)=O)Cc1ccccc1')\n",
        "print( Descriptors.MolWt(phe), Descriptors.MolLogP(phe), Descriptors.RingCount(phe), Descriptors.TPSA(phe) )\n",
        "phe"
      ],
      "execution_count": null,
      "outputs": []
    },
    {
      "cell_type": "markdown",
      "metadata": {
        "id": "26Dum9_JMi5e",
        "colab_type": "text"
      },
      "source": [
        "Database"
      ]
    },
    {
      "cell_type": "code",
      "metadata": {
        "id": "VyW7fdwhMi5f",
        "colab_type": "code",
        "colab": {}
      },
      "source": [
        "def mol_from_smiles( row ) :\n",
        "    smiles = row[ 'smiles' ]\n",
        "    m = Chem.MolFromSmiles( smiles )\n",
        "    activity = row[ 'pChembl_Value' ]\n",
        "    m.SetProp( 'pChembl_Value', str(activity) )\n",
        "    return m\n",
        "\n",
        "\n",
        "url_smi = 'https://raw.githubusercontent.com/chchae/VSLecture/master/data/egfr/ChEMBL27_EGFR_aminopyridine.smi'\n",
        "db_smi = pd.read_table( url_smi, delimiter=' ', names=['smiles', 'pChembl_Value'], header=None, )\n",
        "mols_egfr = [ mol_from_smiles(row) for _, row in db_smi.iterrows() ]\n",
        "\n",
        "print( '%d-molecules read...' % len(mols_egfr) )\n",
        "Draw.MolsToGridImage( mols_egfr[:7], molsPerRow=4, subImgSize=(300,300) )"
      ],
      "execution_count": null,
      "outputs": []
    },
    {
      "cell_type": "markdown",
      "metadata": {
        "id": "BrFhlXiyMi5g",
        "colab_type": "text"
      },
      "source": [
        "Substructure search"
      ]
    },
    {
      "cell_type": "code",
      "metadata": {
        "id": "lD4TZlsDMi5h",
        "colab_type": "code",
        "colab": {}
      },
      "source": [
        "smiles = 'c1cc(ccc1Nc1ncc(Cl)c(Oc2ccccc2)n1)'\n",
        "query = Chem.MolFromSmiles( smiles )\n",
        "AllChem.Compute2DCoords(query)\n",
        "query"
      ],
      "execution_count": null,
      "outputs": []
    },
    {
      "cell_type": "code",
      "metadata": {
        "id": "C_joguwYMi5j",
        "colab_type": "code",
        "colab": {}
      },
      "source": [
        "result = [ x for x in mols_egfr if x.HasSubstructMatch(query) ]\n",
        "print( \"Found = \", len( result ), \" from \", len( mols_egfr ) )\n",
        "for m in result:\n",
        "    AllChem.GenerateDepictionMatching2DStructure( m, query )\n",
        "\n",
        "Draw.MolsToGridImage( result[:10], molsPerRow=3, subImgSize=(300,300), highlightAtomLists=[ m.GetSubstructMatch(query) for m in result ]  )"
      ],
      "execution_count": null,
      "outputs": []
    },
    {
      "cell_type": "markdown",
      "metadata": {
        "id": "4ABf-QJsMi5k",
        "colab_type": "text"
      },
      "source": [
        "MCS"
      ]
    },
    {
      "cell_type": "code",
      "metadata": {
        "id": "oVVL60pgMi5l",
        "colab_type": "code",
        "colab": {}
      },
      "source": [
        "from rdkit.Chem import rdFMCS\n",
        "\n",
        "mols_sub = mols_egfr[:20]\n",
        "mcsf = rdFMCS.FindMCS( mols_sub )\n",
        "mcs = Chem.MolFromSmarts( mcsf.smartsString )\n",
        "mcs"
      ],
      "execution_count": null,
      "outputs": []
    },
    {
      "cell_type": "code",
      "metadata": {
        "id": "QAbedDtMMi5m",
        "colab_type": "code",
        "colab": {}
      },
      "source": [
        "Draw.MolsToGridImage( mols_sub[:10], molsPerRow=3, subImgSize=(250,250), highlightAtomLists=[ m.GetSubstructMatch(mcs) for m in mols_sub ] )"
      ],
      "execution_count": null,
      "outputs": []
    },
    {
      "cell_type": "markdown",
      "metadata": {
        "id": "g-WvpTtWMi5o",
        "colab_type": "text"
      },
      "source": [
        "R-Group decomposition"
      ]
    },
    {
      "cell_type": "code",
      "metadata": {
        "id": "066KNHFrMi5o",
        "colab_type": "code",
        "colab": {}
      },
      "source": [
        "from rdkit.Chem import rdRGroupDecomposition as rdRGD\n",
        "\n",
        "mcsf = rdFMCS.FindMCS( mols_egfr )\n",
        "mcs = Chem.MolFromSmarts( mcsf.smartsString )\n",
        "mcs = query\n",
        "\n",
        "matched,unmatched = rdRGD.RGroupDecompose([mcs],mols_egfr[:],asSmiles=True)\n",
        "print( len(matched), len(unmatched) )\n",
        "print( matched[:3] )\n",
        "Chem.MolFromSmiles( matched[4]['Core'])"
      ],
      "execution_count": null,
      "outputs": []
    },
    {
      "cell_type": "markdown",
      "metadata": {
        "id": "u3ALPy_yMi5q",
        "colab_type": "text"
      },
      "source": [
        "Fingerprints"
      ]
    },
    {
      "cell_type": "code",
      "metadata": {
        "id": "v8_7ev7OMi5q",
        "colab_type": "code",
        "colab": {}
      },
      "source": [
        "from rdkit.Chem.Fingerprints import FingerprintMols\n",
        "\n",
        "ala = Chem.MolFromSmiles( 'CC(C(=O)O)N' )\n",
        "bi = {}\n",
        "fp = AllChem.GetMorganFingerprintAsBitVect( ala, 2, nBits=1024, bitInfo=bi )\n",
        "#fp_arr = np.zeros( (1, ) )\n",
        "#DataStructs.ConvertToNumpyArray( fp, fp_arr )\n",
        "#np.nonzero( fp_arr )\n",
        "#list( fp.GetOnBits() )\n",
        "\n",
        "mfps = [ ( ala, x, bi ) for x in fp.GetOnBits() ]\n",
        "Draw.DrawMorganBits( mfps, molsPerRow=4, subImgSize=(150,150), legends=[ str(x) for x in fp.GetOnBits() ] )"
      ],
      "execution_count": null,
      "outputs": []
    },
    {
      "cell_type": "markdown",
      "metadata": {
        "id": "-Bz-L41hMi5s",
        "colab_type": "text"
      },
      "source": [
        "Fingerprint similarity search"
      ]
    },
    {
      "cell_type": "code",
      "metadata": {
        "id": "e-tOB69TMi5s",
        "colab_type": "code",
        "colab": {}
      },
      "source": [
        "fps = [ FingerprintMols.FingerprintMol(m) for m in mols_egfr ]\n",
        "fp_ref = fps[1]\n",
        "\n",
        "val = []\n",
        "for i in range(len(fps)):\n",
        "    val.append( DataStructs.FingerprintSimilarity( fp_ref, fps[i] ) )\n",
        "print( np.array_str( np.array(val), precision=2 ) )"
      ],
      "execution_count": null,
      "outputs": []
    },
    {
      "cell_type": "markdown",
      "metadata": {
        "id": "NT043MzkMi5u",
        "colab_type": "text"
      },
      "source": [
        "Fingerprint similarity density map"
      ]
    },
    {
      "cell_type": "code",
      "metadata": {
        "id": "2zxgIVepMi5v",
        "colab_type": "code",
        "colab": {}
      },
      "source": [
        "from rdkit.Chem.Draw import SimilarityMaps\n",
        "\n",
        "ref = mols_sub[0]\n",
        "mol = mols_sub[1]\n",
        "fig, maxweight = SimilarityMaps.GetSimilarityMapForFingerprint( ref, mol, SimilarityMaps.GetMorganFingerprint )\n",
        "\n",
        "Draw.MolsToGridImage( [ref, mol], molsPerRow=3, subImgSize=(300,300) )"
      ],
      "execution_count": null,
      "outputs": []
    },
    {
      "cell_type": "markdown",
      "metadata": {
        "id": "rB2TGsofMi5w",
        "colab_type": "text"
      },
      "source": [
        "Fingerprint descriptors map - charge and logP"
      ]
    },
    {
      "cell_type": "code",
      "metadata": {
        "id": "JxkEb7m7Mi5w",
        "colab_type": "code",
        "colab": {}
      },
      "source": [
        "from rdkit.Chem import rdMolDescriptors\n",
        "\n",
        "m = mols_sub[0]\n",
        "#m = Chem.MolFromSmiles( 'Cc1c(Nc2nccc(c3cccnc3)n2)cc(NC(c4ccc(CN5CCN(C)CC5)cc4)=O)cc1' )\n",
        "\n",
        "AllChem.ComputeGasteigerCharges( m )\n",
        "\n",
        "charges = [ m.GetAtomWithIdx(i).GetDoubleProp('_GasteigerCharge') for i in range(m.GetNumAtoms()) ]\n",
        "print( \"Charges = \", charges )\n",
        "SimilarityMaps.GetSimilarityMapFromWeights(m, charges, colorMap='jet', contourLines=10)"
      ],
      "execution_count": null,
      "outputs": []
    },
    {
      "cell_type": "code",
      "metadata": {
        "id": "udEsgA7lMi5y",
        "colab_type": "code",
        "colab": {}
      },
      "source": [
        "logpmr = rdMolDescriptors._CalcCrippenContribs(m)\n",
        "print( \"(LogP, MR) = \", logpmr )\n",
        "SimilarityMaps.GetSimilarityMapFromWeights(mol,[x for x,y in logpmr], colorMap='jet', contourLines=10)"
      ],
      "execution_count": null,
      "outputs": []
    },
    {
      "cell_type": "markdown",
      "metadata": {
        "id": "oM3iXok6Mi50",
        "colab_type": "text"
      },
      "source": [
        "SMIRKS - Chemical Reactions"
      ]
    },
    {
      "cell_type": "code",
      "metadata": {
        "id": "aPhYxzusMi50",
        "colab_type": "code",
        "colab": {}
      },
      "source": [
        "rxn = AllChem.ReactionFromSmarts('[C:1](=[O:2])-[OD1].[N!H0:3]>>[C:1](=[O:2])[N:3]')\n",
        "rxn"
      ],
      "execution_count": null,
      "outputs": []
    },
    {
      "cell_type": "code",
      "metadata": {
        "id": "WqOc5eEaMi52",
        "colab_type": "code",
        "colab": {}
      },
      "source": [
        "rx1 = Chem.MolFromSmiles('C(COC(=O)O)C(=O)O')\n",
        "rx2 = Chem.MolFromSmiles('NC')\n",
        "ps = rxn.RunReactants((rx1,rx2) )\n",
        "print( len(ps) )\n",
        "Draw.MolsToGridImage( [ rx1, rx2, ps[0][0], ps[1][0] ], molsPerRow=2, subImgSize=(300,300) )"
      ],
      "execution_count": null,
      "outputs": []
    },
    {
      "cell_type": "markdown",
      "metadata": {
        "id": "umcqQcVkMi53",
        "colab_type": "text"
      },
      "source": [
        "RECAP"
      ]
    },
    {
      "cell_type": "code",
      "metadata": {
        "id": "JBzKPBUUMi54",
        "colab_type": "code",
        "colab": {}
      },
      "source": [
        "from rdkit.Chem import Recap\n",
        "m = Chem.MolFromSmiles('c1ccccc1OCCOC(=O)CC')\n",
        "# m = Chem.MolFromSmiles( 'Cc1c(Nc2nccc(c3cccnc3)n2)cc(NC(c4ccc(CN5CCN(C)CC5)cc4)=O)cc1' )\n",
        "hierarch = Recap.RecapDecompose(m)\n",
        "print( hierarch.children.keys() )\n",
        "hierarch.mol"
      ],
      "execution_count": null,
      "outputs": []
    },
    {
      "cell_type": "code",
      "metadata": {
        "id": "q42BQA_iMi56",
        "colab_type": "code",
        "colab": {}
      },
      "source": [
        "print 'test'"
      ],
      "execution_count": null,
      "outputs": []
    }
  ]
}