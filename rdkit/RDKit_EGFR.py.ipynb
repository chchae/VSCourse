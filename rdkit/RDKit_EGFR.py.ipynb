{
 "cells": [
  {
   "cell_type": "raw",
   "metadata": {
    "colab": {
     "base_uri": "https://localhost:8080/",
     "height": 1000
    },
    "colab_type": "code",
    "executionInfo": {
     "elapsed": 130809,
     "status": "ok",
     "timestamp": 1597906095793,
     "user": {
      "displayName": "채종학",
      "photoUrl": "https://lh3.googleusercontent.com/a-/AOh14GjM9tdq-k-Sqf6C2LQ574G7PGFRo5YSkTXC6IfbVA=s64",
      "userId": "06796831271294184670"
     },
     "user_tz": -540
    },
    "id": "ZlIwvXwaeWvd",
    "outputId": "79e3f3e5-2eab-4171-b874-8c4eb9138407"
   },
   "source": [
    "#! wget -c https://repo.continuum.io/miniconda/Miniconda3-latest-Linux-x86_64.sh\n",
    "#! chmod +x Miniconda3-latest-Linux-x86_64.sh\n",
    "#! bash ./Miniconda3-latest-Linux-x86_64.sh -b -f -p /usr/local\n",
    "\n",
    "! wget -c https://repo.anaconda.com/miniconda/Miniconda3-py37_4.8.3-Linux-x86_64.sh\n",
    "! chmod +x Miniconda3-py37_4.8.3-Linux-x86_64.sh\n",
    "! bash ./Miniconda3-py37_4.8.3-Linux-x86_64.sh -b -f -p /usr/local\n",
    "\n",
    "! conda install -q -y -c rdkit rdkit \n",
    "\n",
    "import sys\n",
    "sys.path.append('/usr/local/lib/python3.7/site-packages/')\n",
    "!pip install git+https://github.com/keras-team/keras-tuner.git"
   ]
  },
  {
   "cell_type": "raw",
   "metadata": {
    "colab": {},
    "colab_type": "code",
    "id": "B5_00YV9fuVO"
   },
   "source": [
    "from google.colab import auth\n",
    "auth.authenticate_user()\n",
    "\n",
    "from google.colab import drive\n",
    "drive.mount('./MyDrive')\n",
    "\n",
    "driver_name = './MyDrive/My Drive/Colab Notebooks/'"
   ]
  },
  {
   "cell_type": "code",
   "execution_count": null,
   "metadata": {},
   "outputs": [],
   "source": [
    "driver_name = '../'"
   ]
  },
  {
   "cell_type": "code",
   "execution_count": null,
   "metadata": {
    "colab": {},
    "colab_type": "code",
    "id": "S3g2iO5Cd847"
   },
   "outputs": [],
   "source": [
    "import os\n",
    "import numpy as np\n",
    "import random\n",
    "import pandas as pd\n",
    "import matplotlib.pyplot as plt\n",
    "\n",
    "from keras import layers, models\n",
    "from keras.layers import Dense\n",
    "from keras.models import Sequential\n",
    "from keras.utils import np_utils\n",
    "from sklearn.model_selection import train_test_split\n",
    "\n",
    "from rdkit import Chem, DataStructs, rdBase\n",
    "from rdkit.Chem import AllChem, DataStructs, Draw, rdDistGeom\n",
    "from rdkit.Chem.rdMolDescriptors import GetMorganFingerprint, GetMorganFingerprintAsBitVect\n",
    "from rdkit.SimDivFilters.rdSimDivPickers import MaxMinPicker\n",
    "from rdkit.Chem.Draw import IPythonConsole\n",
    "from rdkit import RDLogger\n",
    "RDLogger.logger().setLevel(RDLogger.CRITICAL)"
   ]
  },
  {
   "cell_type": "markdown",
   "metadata": {},
   "source": [
    "Read and prepare molecules"
   ]
  },
  {
   "cell_type": "code",
   "execution_count": null,
   "metadata": {
    "colab": {},
    "colab_type": "code",
    "id": "boRGWhJcd84_"
   },
   "outputs": [],
   "source": [
    "def readAndSplitMolecules( fname, frac_test ) :\n",
    "    molsdf = Chem.rdmolfiles.SDMolSupplier( fname )\n",
    "#    moles = [ m for m in molsdf if m != None ]\n",
    "    moles_train, moles_test = train_test_split( molsdf, test_size=frac_test )\n",
    "    print( \"%d-molecules = %d-train + %d-test\" % ( len(molsdf), len(moles_train), len(moles_test) ) )\n",
    "    return moles_train, moles_test\n",
    "\n",
    "\n",
    "def mol_from_smiles( row ) :\n",
    "    smiles = row[ 'smiles' ]\n",
    "    m = Chem.MolFromSmiles( smiles )\n",
    "    if m != None :\n",
    "        activity = row[ 'pChEMBL_Value' ]\n",
    "        if activity != None :\n",
    "            m.SetProp( 'pChEMBL_Value', str(activity) )\n",
    "    return m\n",
    "\n",
    "def readMoleculesSmiles(url) :\n",
    "    db_smi = pd.read_table( url, delimiter=' ', names=['smiles', 'pChEMBL_Value', 'dummy' ], header=None, )\n",
    "    mols = [ mol_from_smiles(row) for _, row in db_smi.iterrows() if row[ 'smiles' ] != None ]\n",
    "    return [ m for m in mols if m != None ]\n",
    "\n",
    "def readAndSplitSmiles( url, frac_test ) :\n",
    "    molsdf = readMoleculesSmiles( url )\n",
    "    moles_train, moles_test = train_test_split( molsdf, test_size=frac_test )\n",
    "    print( \"%d-molecules = %d-train + %d-test\" % ( len(molsdf), len(moles_train), len(moles_test) ) )\n",
    "    return moles_train, moles_test"
   ]
  },
  {
   "cell_type": "markdown",
   "metadata": {},
   "source": [
    "Prepare Molecular Descriptors and Y-values"
   ]
  },
  {
   "cell_type": "code",
   "execution_count": null,
   "metadata": {
    "colab": {},
    "colab_type": "code",
    "id": "dJdikR1td85D"
   },
   "outputs": [],
   "source": [
    "def getFingerprintFromMolecule( moles, nBits=2048 ) :\n",
    "    fps = [ GetMorganFingerprintAsBitVect( m, radius=2, nBits=nBits ) for m in moles ]\n",
    "    np_fps = []\n",
    "    for fp in fps:\n",
    "        arr = np.zeros( (1, ) )\n",
    "        DataStructs.cDataStructs.ConvertToNumpyArray( fp, arr )\n",
    "        np_fps.append( arr )\n",
    "    return np_fps"
   ]
  },
  {
   "cell_type": "code",
   "execution_count": null,
   "metadata": {
    "colab": {},
    "colab_type": "code",
    "id": "lJX8F0wOd85E"
   },
   "outputs": [],
   "source": [
    "def getActivityOfMolecule( moles ) :\n",
    "    try:\n",
    "        activity = [ m.GetProp( 'pChEMBL_Value' ) for m in moles ]\n",
    "        activity = np.asarray( activity ).astype( 'float' )\n",
    "    except :\n",
    "        print( \"No activity data...\" )\n",
    "        activity = np.array( len(moles) )\n",
    "    return activity"
   ]
  },
  {
   "cell_type": "code",
   "execution_count": null,
   "metadata": {
    "colab": {},
    "colab_type": "code",
    "id": "8RWc57yFd85G"
   },
   "outputs": [],
   "source": [
    "def generateInputDataRegres( moles, nBits=2048 ) :\n",
    "    fps = np.array( getFingerprintFromMolecule( moles, nBits ) )\n",
    "    y = getActivityOfMolecule( moles )\n",
    "    return fps, y"
   ]
  },
  {
   "cell_type": "markdown",
   "metadata": {},
   "source": [
    "Make model"
   ]
  },
  {
   "cell_type": "code",
   "execution_count": null,
   "metadata": {
    "colab": {},
    "colab_type": "code",
    "id": "NeJh6AjUd85I"
   },
   "outputs": [],
   "source": [
    "def do_regression( X_train, Y_train, epochs=200, validation_split=0.1 ):\n",
    "    nfeatures = X_train.shape[1]\n",
    "    model = Sequential()\n",
    "    model.add( Dense(nfeatures, input_dim=nfeatures, activation='relu') )\n",
    "    model.add( Dense(nfeatures, activation='relu') )\n",
    "    model.add( Dense(1) )\n",
    "    model.compile( loss='mean_squared_error', optimizer='adam', metrics=['mae'] )\n",
    "    history = model.fit(X_train, Y_train, epochs=epochs, batch_size=64, validation_split=validation_split, verbose=1)\n",
    "    return model, history"
   ]
  },
  {
   "cell_type": "code",
   "execution_count": null,
   "metadata": {
    "colab": {},
    "colab_type": "code",
    "id": "n4N7ss-ed85K"
   },
   "outputs": [],
   "source": [
    "def plot_history( hist ) :\n",
    "    plt.figure( figsize=(6, 4) )\n",
    "    _, loss_ax = plt.subplots()\n",
    "    _ = loss_ax.twinx()\n",
    "\n",
    "    loss_ax.plot(hist.history['loss'], 'y', label='train loss')\n",
    "    loss_ax.plot(hist.history['val_loss'], 'r', label='val loss')\n",
    "    loss_ax.set_xlabel('epoch')\n",
    "    loss_ax.set_ylabel('loss')\n",
    "    loss_ax.legend(loc='upper right')\n",
    "\n",
    "    plt.show()"
   ]
  },
  {
   "cell_type": "code",
   "execution_count": null,
   "metadata": {
    "colab": {},
    "colab_type": "code",
    "id": "KgfafsPzd85L"
   },
   "outputs": [],
   "source": [
    "def plot_prediction( Y_train, Y_train_pred, Y_test, Y_test_pred ) :\n",
    "    plt.figure( figsize=(4, 4) )\n",
    "    plt.scatter(Y_train, Y_train_pred, color='black', s=2)\n",
    "    plt.scatter(Y_test, Y_test_pred, color='red', s=2)\n",
    "    plt.xticks( np.arange(3, 12) )\n",
    "    plt.yticks( np.arange(3, 12) )\n",
    "    plt.show()"
   ]
  },
  {
   "cell_type": "code",
   "execution_count": null,
   "metadata": {
    "colab": {},
    "colab_type": "code",
    "id": "KHGoiF73d85N"
   },
   "outputs": [],
   "source": [
    "def check_duplicates( fps ) :\n",
    "    fps2 = np.unique( [ tuple(row) for row in fps ] )\n",
    "    print( len(fps), len(fps2) )"
   ]
  },
  {
   "cell_type": "code",
   "execution_count": null,
   "metadata": {
    "colab": {},
    "colab_type": "code",
    "id": "UIHEGR45d85O"
   },
   "outputs": [],
   "source": [
    "def MakePredictionModel( sdfname, nBits=1024, frac_test=0.3, epochs=100 ) :\n",
    "    # readAndSplitMolecules_1( sdfname, frac_test )\n",
    "    # moles_train, moles_test = readAndSplitMolecules( sdfname, frac_test )\n",
    "    moles_train, moles_test = readAndSplitSmiles( sdfname, frac_test )\n",
    "    fps_train, activity_train = generateInputDataRegres( moles_train, nBits )\n",
    "    fps_test,  activity_test  = generateInputDataRegres( moles_test,  nBits )\n",
    "    # check_duplicates( fps_train )\n",
    "\n",
    "    model, history = do_regression( fps_train, activity_train, epochs=epochs, validation_split=0.1 )\n",
    "\n",
    "    plot_history( history )\n",
    "\n",
    "    activity_train_pred = model.predict( fps_train ).flatten()\n",
    "    activity_test_pred  = model.predict( fps_test ).flatten()\n",
    "\n",
    "    plot_prediction( activity_train, activity_train_pred, activity_test, activity_test_pred )\n",
    "    return model, history"
   ]
  },
  {
   "cell_type": "code",
   "execution_count": null,
   "metadata": {
    "colab": {},
    "colab_type": "code",
    "id": "HcS_Ymood85Q"
   },
   "outputs": [],
   "source": [
    "def UsePredictionModel( model, dbfname, nBits ) :\n",
    "    # mdb = Chem.rdmolfiles.SmilesMolSupplier( dbfname )\n",
    "    # moles = [ m for m in mdb if m != None ][6000:9000]\n",
    "    moles = readMoleculesSmiles( dbfname )[6000:9000]\n",
    "    #fps = getFingerprintFromMolecule( moles )\n",
    "    print( 'Start searching from %d-molecules ...' % len(moles) )\n",
    "\n",
    "    maxcount = 5\n",
    "    result = []\n",
    "    for m in moles :\n",
    "        fp = GetMorganFingerprintAsBitVect( m, radius=2, nBits=nBits )\n",
    "        fps = np.zeros( (1, ) )\n",
    "        DataStructs.cDataStructs.ConvertToNumpyArray( fp, fps )\n",
    "        yp = model.predict( fps.reshape(1,-1) )[0]\n",
    "        if 7.25 < yp :\n",
    "            print( \"%5.2f : %s\" % ( yp, Chem.MolToSmiles(m) ) )\n",
    "            result.append( m )\n",
    "            if maxcount <= len(result) :\n",
    "                break\n",
    "            \n",
    "    return result"
   ]
  },
  {
   "cell_type": "code",
   "execution_count": null,
   "metadata": {
    "colab": {},
    "colab_type": "code",
    "id": "SyZPsZvvd85R",
    "scrolled": false
   },
   "outputs": [],
   "source": [
    "def main():\n",
    "    nBits = 1024\n",
    "    driver_name = '../'\n",
    "    fname_model = driver_name + 'data/egfr/ChEMBL-EGFR-2664-model.save'\n",
    "    result = []\n",
    "\n",
    "#    if not os.path.exists( fname_model ) :\n",
    "    if True:\n",
    "        frac_test = 0.3\n",
    "        epochs = 30\n",
    "        # sdfname = driver_name + 'data/egfr/200609-ChEMBL-2664.sdf'\n",
    "        sdfname = 'https://raw.githubusercontent.com/chchae/VSLecture/master/data/egfr/200609-ChEMBL-2664.smi'\n",
    "        model, history = MakePredictionModel( sdfname, nBits, frac_test, epochs )\n",
    "        # model.save( fname_model )\n",
    "        # model = models.load_model( fname_model )\n",
    "\n",
    "#    if os.path.exists( fname_model ) :\n",
    "#        dbfname = driver_name + 'data/egfr/emolecules-10k.smi'\n",
    "        dbfname = 'https://raw.githubusercontent.com/chchae/VSLecture/master/data/egfr/emolecules-10k.smi'\n",
    "        result = UsePredictionModel( model, dbfname, nBits )\n",
    "    \n",
    "    return result"
   ]
  },
  {
   "cell_type": "code",
   "execution_count": null,
   "metadata": {
    "colab": {},
    "colab_type": "code",
    "id": "qaUxuBfed85U"
   },
   "outputs": [],
   "source": [
    "result = main()\n",
    "Draw.MolsToGridImage( result[:20], molsPerRow=4, subImgSize=(250,250) )    "
   ]
  },
  {
   "cell_type": "markdown",
   "metadata": {},
   "source": [
    "Release GPU Memory"
   ]
  },
  {
   "cell_type": "code",
   "execution_count": null,
   "metadata": {},
   "outputs": [],
   "source": [
    "from numba import cuda\n",
    "\n",
    "device = cuda.get_current_device()\n",
    "device.reset()"
   ]
  }
 ],
 "metadata": {
  "colab": {
   "collapsed_sections": [],
   "name": "RDKit_EGFR.py.ipynb",
   "provenance": []
  },
  "kernelspec": {
   "display_name": "Python [conda env:rdkit] *",
   "language": "python",
   "name": "conda-env-rdkit-py"
  },
  "language_info": {
   "codemirror_mode": {
    "name": "ipython",
    "version": 3
   },
   "file_extension": ".py",
   "mimetype": "text/x-python",
   "name": "python",
   "nbconvert_exporter": "python",
   "pygments_lexer": "ipython3",
   "version": "3.7.7"
  }
 },
 "nbformat": 4,
 "nbformat_minor": 1
}
