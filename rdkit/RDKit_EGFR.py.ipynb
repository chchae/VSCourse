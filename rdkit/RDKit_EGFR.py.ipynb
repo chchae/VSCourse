{
 "cells": [
  {
   "cell_type": "raw",
   "metadata": {
    "colab": {
     "base_uri": "https://localhost:8080/",
     "height": 1000
    },
    "colab_type": "code",
    "executionInfo": {
     "elapsed": 130809,
     "status": "ok",
     "timestamp": 1597906095793,
     "user": {
      "displayName": "채종학",
      "photoUrl": "https://lh3.googleusercontent.com/a-/AOh14GjM9tdq-k-Sqf6C2LQ574G7PGFRo5YSkTXC6IfbVA=s64",
      "userId": "06796831271294184670"
     },
     "user_tz": -540
    },
    "id": "ZlIwvXwaeWvd",
    "outputId": "79e3f3e5-2eab-4171-b874-8c4eb9138407"
   },
   "source": [
    "#! wget -c https://repo.continuum.io/miniconda/Miniconda3-latest-Linux-x86_64.sh\n",
    "#! chmod +x Miniconda3-latest-Linux-x86_64.sh\n",
    "# ! bash ./Miniconda3-latest-Linux-x86_64.sh -b -f -p /usr/local\n",
    "\n",
    "! wget -c https://repo.anaconda.com/miniconda/Miniconda3-py37_4.8.3-Linux-x86_64.sh\n",
    "! chmod +x Miniconda3-py37_4.8.3-Linux-x86_64.sh\n",
    "! bash ./Miniconda3-py37_4.8.3-Linux-x86_64.sh -b -f -p /usr/local\n",
    "\n",
    "! conda install -q -y -c rdkit rdkit \n",
    "\n",
    "import sys\n",
    "sys.path.append('/usr/local/lib/python3.7/site-packages/')\n",
    "!pip install git+https://github.com/keras-team/keras-tuner.git"
   ]
  },
  {
   "cell_type": "raw",
   "metadata": {
    "colab": {},
    "colab_type": "code",
    "id": "B5_00YV9fuVO"
   },
   "source": [
    "from google.colab import auth\n",
    "auth.authenticate_user()\n",
    "\n",
    "from google.colab import drive\n",
    "drive.mount('./MyDrive')\n",
    "\n",
    "driver_name = './MyDrive/My Drive/Colab Notebooks/'"
   ]
  },
  {
   "cell_type": "code",
   "execution_count": 1,
   "metadata": {},
   "outputs": [],
   "source": [
    "driver_name = '../'"
   ]
  },
  {
   "cell_type": "code",
   "execution_count": 2,
   "metadata": {
    "colab": {},
    "colab_type": "code",
    "id": "S3g2iO5Cd847"
   },
   "outputs": [],
   "source": [
    "import os\n",
    "import numpy as np\n",
    "import random\n",
    "import pandas as pd\n",
    "import matplotlib.pyplot as plt\n",
    "\n",
    "from keras import layers, models\n",
    "from keras.layers import Dense\n",
    "from keras.models import Sequential\n",
    "from keras.utils import np_utils\n",
    "from sklearn.model_selection import train_test_split\n",
    "\n",
    "from rdkit import Chem, DataStructs, rdBase\n",
    "from rdkit.Chem import AllChem, DataStructs, Draw, rdDistGeom\n",
    "from rdkit.Chem.rdMolDescriptors import GetMorganFingerprint, GetMorganFingerprintAsBitVect\n",
    "from rdkit.SimDivFilters.rdSimDivPickers import MaxMinPicker\n",
    "from rdkit.Chem.Draw import IPythonConsole\n",
    "from rdkit import RDLogger\n",
    "RDLogger.logger().setLevel(RDLogger.CRITICAL)"
   ]
  },
  {
   "cell_type": "code",
   "execution_count": 3,
   "metadata": {
    "colab": {},
    "colab_type": "code",
    "id": "2b_LF0bbd84-"
   },
   "outputs": [],
   "source": [
    "def distij( i, j, fps ) :\n",
    "    return 1 - DataStructs.DiceSimilarity( fps[i], fps[j] )\n",
    "\n",
    "\n",
    "def diversePicker( fps ) :\n",
    "    nfps = len(fps)\n",
    "    picker = MaxMinPicker()\n",
    "    pickIndices = picker.LazyPick( distij, nfps, 10, seed=23 )\n",
    "    list(pickIndices)\n",
    "    \n",
    "\n",
    "def readAndSplitMolecules_1( fname, frac_test ) :\n",
    "    molsdf = Chem.rdmolfiles.SDMolSupplier( fname )\n",
    "    moles = [ m for m in molsdf if m != None ]\n",
    "    fps = [GetMorganFingerprint(x,3) for x in moles]\n",
    "    diversePicker( fps )"
   ]
  },
  {
   "cell_type": "code",
   "execution_count": 4,
   "metadata": {
    "colab": {},
    "colab_type": "code",
    "id": "boRGWhJcd84_"
   },
   "outputs": [],
   "source": [
    "def readAndSplitMolecules( fname, frac_test ) :\n",
    "    molsdf = Chem.rdmolfiles.SDMolSupplier( fname )\n",
    "    moles = [ m for m in molsdf if m != None ]\n",
    "    moles_train, moles_test = train_test_split( moles, test_size=frac_test )\n",
    "    print( \"%d-molecules = %d-train + %d-test\" % ( len(molsdf), len(moles_train), len(moles_test) ) )\n",
    "    return moles_train, moles_test"
   ]
  },
  {
   "cell_type": "code",
   "execution_count": 5,
   "metadata": {
    "colab": {},
    "colab_type": "code",
    "id": "dJdikR1td85D"
   },
   "outputs": [],
   "source": [
    "def getFingerprintFromMolecule( moles, nBits=2048 ) :\n",
    "    fps = [ GetMorganFingerprintAsBitVect( m, radius=2, nBits=nBits ) for m in moles ]\n",
    "    np_fps = []\n",
    "    for fp in fps:\n",
    "        arr = np.zeros( (1, ) )\n",
    "        DataStructs.cDataStructs.ConvertToNumpyArray( fp, arr )\n",
    "        np_fps.append( arr )\n",
    "    return np_fps"
   ]
  },
  {
   "cell_type": "code",
   "execution_count": 6,
   "metadata": {
    "colab": {},
    "colab_type": "code",
    "id": "lJX8F0wOd85E"
   },
   "outputs": [],
   "source": [
    "def getActivityOfMolecule( moles ) :\n",
    "    try:\n",
    "        activity = [ m.GetProp( 'pChEMBL_Value' ) for m in moles ]\n",
    "        activity = np.asarray( activity ).astype( 'float' )\n",
    "    except :\n",
    "        print( \"No activity data...\" )\n",
    "        activity = np.array( len(moles) )\n",
    "    return activity"
   ]
  },
  {
   "cell_type": "code",
   "execution_count": 7,
   "metadata": {
    "colab": {},
    "colab_type": "code",
    "id": "8RWc57yFd85G"
   },
   "outputs": [],
   "source": [
    "def generateInputDataRegres( moles, nBits=2048 ) :\n",
    "    fps = np.array( getFingerprintFromMolecule( moles, nBits ) )\n",
    "    y = getActivityOfMolecule( moles )\n",
    "    return fps, y"
   ]
  },
  {
   "cell_type": "code",
   "execution_count": 8,
   "metadata": {
    "colab": {},
    "colab_type": "code",
    "id": "NeJh6AjUd85I"
   },
   "outputs": [],
   "source": [
    "def do_regression( X_train, Y_train, epochs=200, validation_split=0.1 ):\n",
    "    nfeatures = X_train.shape[1]\n",
    "    model = Sequential()\n",
    "    model.add(Dense(nfeatures, input_dim=nfeatures, activation='relu'))\n",
    "    model.add(Dense(nfeatures, activation='relu'))\n",
    "    model.add(Dense(1))\n",
    "    model.compile(loss='mean_squared_error', optimizer='adam', metrics=['mae'] )\n",
    "    history = model.fit(X_train, Y_train, epochs=epochs, batch_size=64, validation_split=validation_split, verbose=1)\n",
    "    return model, history"
   ]
  },
  {
   "cell_type": "code",
   "execution_count": 9,
   "metadata": {
    "colab": {},
    "colab_type": "code",
    "id": "n4N7ss-ed85K"
   },
   "outputs": [],
   "source": [
    "def plot_history( hist ) :\n",
    "    plt.figure( figsize=(6, 4) )\n",
    "    _, loss_ax = plt.subplots()\n",
    "    _ = loss_ax.twinx()\n",
    "\n",
    "    loss_ax.plot(hist.history['loss'], 'y', label='train loss')\n",
    "    loss_ax.plot(hist.history['val_loss'], 'r', label='val loss')\n",
    "    loss_ax.set_xlabel('epoch')\n",
    "    loss_ax.set_ylabel('loss')\n",
    "    loss_ax.legend(loc='upper right')\n",
    "\n",
    "    plt.show()"
   ]
  },
  {
   "cell_type": "code",
   "execution_count": 10,
   "metadata": {
    "colab": {},
    "colab_type": "code",
    "id": "KgfafsPzd85L"
   },
   "outputs": [],
   "source": [
    "def plot_prediction( Y_train, Y_train_pred, Y_test, Y_test_pred ) :\n",
    "    plt.figure( figsize=(4, 4) )\n",
    "    plt.scatter(Y_train, Y_train_pred, color='black', s=2)\n",
    "    plt.scatter(Y_test, Y_test_pred, color='red', s=2)\n",
    "    plt.xticks( np.arange(3, 12) )\n",
    "    plt.yticks( np.arange(3, 12) )\n",
    "    plt.show()"
   ]
  },
  {
   "cell_type": "code",
   "execution_count": 11,
   "metadata": {
    "colab": {},
    "colab_type": "code",
    "id": "KHGoiF73d85N"
   },
   "outputs": [],
   "source": [
    "def check_duplicates( fps ) :\n",
    "    fps2 = np.unique( [ tuple(row) for row in fps ] )\n",
    "    print( len(fps), len(fps2) )"
   ]
  },
  {
   "cell_type": "code",
   "execution_count": 12,
   "metadata": {
    "colab": {},
    "colab_type": "code",
    "id": "UIHEGR45d85O"
   },
   "outputs": [],
   "source": [
    "def MakePredictionModel( sdfname, nBits, frac_test, epochs, fname_model ) :\n",
    "    #readAndSplitMolecules_1( sdfname, frac_test )\n",
    "    moles_train, moles_test = readAndSplitMolecules( sdfname, frac_test )\n",
    "    fps_train, activity_train = generateInputDataRegres( moles_train, nBits )\n",
    "    fps_test,  activity_test  = generateInputDataRegres( moles_test,  nBits )\n",
    "#check_duplicates( fps_train )\n",
    "\n",
    "    model, history = do_regression( fps_train, activity_train, epochs=epochs, validation_split=0.1 )\n",
    "    model.save( fname_model )\n",
    "\n",
    "    plot_history( history )\n",
    "\n",
    "    activity_train_pred = model.predict( fps_train ).flatten()\n",
    "    activity_test_pred  = model.predict( fps_test ).flatten()\n",
    "\n",
    "    plot_prediction( activity_train, activity_train_pred, activity_test, activity_test_pred )"
   ]
  },
  {
   "cell_type": "code",
   "execution_count": 13,
   "metadata": {
    "colab": {},
    "colab_type": "code",
    "id": "HcS_Ymood85Q"
   },
   "outputs": [],
   "source": [
    "def UsePredictionModel( model, dbfname, nBits ) :\n",
    "    mdb = Chem.rdmolfiles.SmilesMolSupplier( dbfname )\n",
    "    moles = [ m for m in mdb if m != None ][6000:9000]\n",
    "    #fps = getFingerprintFromMolecule( moles )\n",
    "    print( 'Start searching ...' )\n",
    "    result = []\n",
    "    for m in moles :\n",
    "        fp = GetMorganFingerprintAsBitVect( m, radius=2, nBits=nBits )\n",
    "        fps = np.zeros( (1, ) )\n",
    "        DataStructs.cDataStructs.ConvertToNumpyArray( fp, fps )\n",
    "        yp = model.predict( fps.reshape(1,-1) )[0]\n",
    "        if 7.5 < yp :\n",
    "            print( \"%5.2f : %s\" % ( yp, Chem.MolToSmiles(m) ) )\n",
    "            result.append( m )\n",
    "            \n",
    "    return result"
   ]
  },
  {
   "cell_type": "code",
   "execution_count": null,
   "metadata": {
    "colab": {},
    "colab_type": "code",
    "id": "SyZPsZvvd85R"
   },
   "outputs": [],
   "source": [
    "nBits = 1024\n",
    "fname_model = driver_name + 'data/egfr/ChEMBL-EGFR-2664-model.save'\n",
    "\n",
    "if not os.path.exists( fname_model ) :\n",
    "    frac_test = 0.3\n",
    "    epochs = 100\n",
    "    sdfname = driver_name + 'data/egfr/200609-ChEMBL-2664.sdf'\n",
    "    MakePredictionModel( sdfname, nBits, frac_test, epochs, fname_model )\n",
    "\n",
    "if os.path.exists( fname_model ) :\n",
    "    dbfname = driver_name + 'data/egfr/emolecules-10k.smi'\n",
    "    model = models.load_model( fname_model )\n",
    "    result = UsePredictionModel( model, dbfname, nBits )\n",
    "    \n",
    "    Draw.MolsToGridImage( result[:20], molsPerRow=4, subImgSize=(250,250) )    "
   ]
  },
  {
   "cell_type": "code",
   "execution_count": 15,
   "metadata": {
    "colab": {},
    "colab_type": "code",
    "id": "qaUxuBfed85U"
   },
   "outputs": [
    {
     "data": {
      "image/png": "[encoded data removed]",
      "text/plain": [
       "<PIL.PngImagePlugin.PngImageFile image mode=RGB size=1000x250 at 0x210124184C8>"
      ]
     },
     "execution_count": 15,
     "metadata": {},
     "output_type": "execute_result"
    }
   ],
   "source": [
    "Draw.MolsToGridImage( result, molsPerRow=4, subImgSize=(250,250) )    "
   ]
  }
 ],
 "metadata": {
  "colab": {
   "collapsed_sections": [],
   "name": "RDKit_EGFR.py.ipynb",
   "provenance": []
  },
  "kernelspec": {
   "display_name": "Python [conda env:rdkit] *",
   "language": "python",
   "name": "conda-env-rdkit-py"
  },
  "language_info": {
   "codemirror_mode": {
    "name": "ipython",
    "version": 3
   },
   "file_extension": ".py",
   "mimetype": "text/x-python",
   "name": "python",
   "nbconvert_exporter": "python",
   "pygments_lexer": "ipython3",
   "version": "3.7.7"
  }
 },
 "nbformat": 4,
 "nbformat_minor": 1
}
