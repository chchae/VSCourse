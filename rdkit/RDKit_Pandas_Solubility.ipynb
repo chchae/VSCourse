{
 "cells": [
  {
   "cell_type": "raw",
   "metadata": {
    "cellView": "both",
    "colab": {},
    "colab_type": "code",
    "id": "xy2fMWMdglfK"
   },
   "source": [
    "#@title\n",
    "! wget -c https://repo.anaconda.com/miniconda/Miniconda3-py37_4.8.3-Linux-x86_64.sh\n",
    "! chmod +x Miniconda3-py37_4.8.3-Linux-x86_64.sh\n",
    "! bash ./Miniconda3-py37_4.8.3-Linux-x86_64.sh -b -f -p /usr/local\n",
    "\n",
    "! conda install -q -y -c rdkit rdkit \n",
    "\n",
    "import sys\n",
    "sys.path.append('/usr/local/lib/python3.7/site-packages/')\n",
    "!pip install git+https://github.com/keras-team/keras-tuner.git\n",
    "\n",
    "#! python -m pip install \"git+https://github.com/javadba/mpld3@display_fix\""
   ]
  },
  {
   "cell_type": "raw",
   "metadata": {
    "colab": {},
    "colab_type": "code",
    "id": "iS_IoeoBhF12"
   },
   "source": [
    "from google.colab import auth\n",
    "auth.authenticate_user()\n",
    "\n",
    "from google.colab import drive\n",
    "drive.mount('./MyDrive')\n",
    "\n",
    "driver_name = './MyDrive/My Drive/Colab Notebooks/'"
   ]
  },
  {
   "cell_type": "code",
   "execution_count": null,
   "metadata": {},
   "outputs": [],
   "source": [
    "driver_name = '../'"
   ]
  },
  {
   "cell_type": "code",
   "execution_count": null,
   "metadata": {
    "colab": {},
    "colab_type": "code",
    "id": "CPtOYYLGg0zS"
   },
   "outputs": [],
   "source": [
    "import numpy as np\n",
    "import pandas as pd\n",
    "\n",
    "from rdkit import Chem, DataStructs\n",
    "from rdkit.Chem import AllChem, DataStructs, Draw, Descriptors\n",
    "from rdkit.Chem.Draw import IPythonConsole\n",
    "from rdkit.Chem import PandasTools"
   ]
  },
  {
   "cell_type": "code",
   "execution_count": null,
   "metadata": {
    "colab": {},
    "colab_type": "code",
    "id": "AFqitvb8hInd"
   },
   "outputs": [],
   "source": [
    "data = pd.read_csv( driver_name + 'data/delaney-processed.csv' )[ [ 'Compound ID', 'smiles', 'measured log solubility in mols per litre' ] ]\n",
    "# data.head()"
   ]
  },
  {
   "cell_type": "code",
   "execution_count": null,
   "metadata": {
    "colab": {},
    "colab_type": "code",
    "id": "-sxiamsAkPsa"
   },
   "outputs": [],
   "source": [
    "PandasTools.AddMoleculeColumnToFrame( data, 'smiles', 'Molecule' )\n",
    "data = data.rename( columns={ 'measured log solubility in mols per litre':'solv' } )\n",
    "#data.head()\n",
    "#data.sort_values( by=['solv'], ascending=False ).head()\n",
    "#data['solv'].max()\n",
    "#high_sol = data.loc[ data['solv'] >= 1.5 ]\n",
    "#high_sol"
   ]
  },
  {
   "cell_type": "code",
   "execution_count": null,
   "metadata": {
    "colab": {},
    "colab_type": "code",
    "id": "T-_48b6PmRtg"
   },
   "outputs": [],
   "source": [
    "def AromaticAtoms(m) :\n",
    "    aa_atoms = [ m.GetAtomWithIdx(i).GetIsAromatic() for i in range( m.GetNumAtoms() ) ]\n",
    "    aa_cnt = sum( 1 for a in aa_atoms if a == True )\n",
    "    return aa_cnt / Descriptors.HeavyAtomCount(m)\n",
    "\n",
    "data['mw'] = [ Descriptors.MolWt(mol) for mol in data[ 'Molecule' ] ]\n",
    "data['MolLogP'] = [ Descriptors.MolLogP(mol) for mol in data[ 'Molecule' ] ]\n",
    "data['NumRotatableBonds'] = [ Descriptors.NumRotatableBonds(mol) for mol in data[ 'Molecule' ] ]\n",
    "data['AromP'] = [ AromaticAtoms(mol) for mol in data[ 'Molecule' ] ]\n",
    "data.head()"
   ]
  },
  {
   "cell_type": "code",
   "execution_count": null,
   "metadata": {
    "colab": {},
    "colab_type": "code",
    "id": "s5AH6Nz-owKK"
   },
   "outputs": [],
   "source": [
    "x = data[ [ 'MolLogP', 'mw', 'NumRotatableBonds', 'AromP' ] ]\n",
    "y = data[ 'solv' ]\n",
    "pd.concat( [x,y], axis=1 )"
   ]
  },
  {
   "cell_type": "code",
   "execution_count": null,
   "metadata": {
    "colab": {},
    "colab_type": "code",
    "id": "0LE8AHllu--M"
   },
   "outputs": [],
   "source": [
    "from sklearn.model_selection import  train_test_split\n",
    "\n",
    "X_train, X_test, Y_train, Y_test = train_test_split( x, y, test_size=0.3 )"
   ]
  },
  {
   "cell_type": "code",
   "execution_count": null,
   "metadata": {
    "colab": {},
    "colab_type": "code",
    "id": "zs434szgvSUI"
   },
   "outputs": [],
   "source": [
    "from sklearn import linear_model\n",
    "from sklearn.metrics import mean_squared_error, r2_score\n",
    "\n",
    "model = linear_model.LinearRegression()\n",
    "model.fit( X_train, Y_train )\n",
    "\n",
    "Y_train_pred = model.predict( X_train )\n",
    "Y_test_pred = model.predict( X_test )"
   ]
  },
  {
   "cell_type": "code",
   "execution_count": null,
   "metadata": {
    "colab": {},
    "colab_type": "code",
    "id": "GRDM4gYkcJIf"
   },
   "outputs": [],
   "source": [
    "print( 'Coeff = ', model.coef_, ' Intercept = ', model.intercept_ )\n",
    "\n",
    "print( 'MSE = %.2f' % mean_squared_error( Y_train, Y_train_pred ) )\n",
    "print( 'R2 = %.2f' % r2_score( Y_train, Y_train_pred ) )\n",
    "\n",
    "print( 'MSE = %.2f' % mean_squared_error( Y_test, Y_test_pred ) )\n",
    "print( 'R2 = %.2f' % r2_score( Y_test, Y_test_pred ) )\n",
    "\n",
    "print( 'LogS = %.3f + %.3f LogP + %.3f MW + %.3f RB + %.3f AP' % ( model.intercept_, model.coef_[0], model.coef_[1], model.coef_[2], model.coef_[3],) )\n",
    "print( 'Delaney : LogS = 0.16 - 0.63 cLogP - 0.0062 MW + 0.066 RB - 0.74 AP' )"
   ]
  },
  {
   "cell_type": "code",
   "execution_count": null,
   "metadata": {
    "colab": {},
    "colab_type": "code",
    "id": "X0ROwQMWBLAW"
   },
   "outputs": [],
   "source": [
    "import matplotlib.pyplot as plt\n",
    "from rdkit.Chem.Draw import rdDepictor, rdMolDraw2D"
   ]
  },
  {
   "cell_type": "code",
   "execution_count": null,
   "metadata": {
    "colab": {},
    "colab_type": "code",
    "id": "1GnCbI7vAEKj"
   },
   "outputs": [],
   "source": [
    "def moltosvg(mol,molSize=(225,75),kekulize=True):\n",
    "    mc = Chem.Mol(mol.ToBinary())\n",
    "    if kekulize:\n",
    "        try:\n",
    "            Chem.Kekulize(mc)\n",
    "        except:\n",
    "            mc = Chem.Mol(mol.ToBinary())\n",
    "    if not mc.GetNumConformers():\n",
    "        rdDepictor.Compute2DCoords(mc)\n",
    "    drawer = rdMolDraw2D.MolDraw2DSVG(molSize[0],molSize[1])\n",
    "    drawer.DrawMolecule(mc)\n",
    "    drawer.FinishDrawing()\n",
    "    svg = drawer.GetDrawingText()\n",
    "    return svg.replace('svg:','')"
   ]
  },
  {
   "cell_type": "code",
   "execution_count": null,
   "metadata": {
    "colab": {},
    "colab_type": "code",
    "id": "ePZ5lOiE4l_H"
   },
   "outputs": [],
   "source": [
    "import matplotlib.pyplot as plt\n",
    "\n",
    "plt.figure( figsize=(11,5) )\n",
    "\n",
    "plt.subplot( 1, 2, 1 )\n",
    "plt.scatter( x=Y_train, y=Y_train_pred, c=\"#7CAE00\", alpha=0.3 )\n",
    "z = np.polyfit( Y_train, Y_train_pred, 1 )\n",
    "p = np.poly1d(z)\n",
    "plt.plot( Y_train, p(Y_train), \"#F8766D\" )\n",
    "plt.xlabel( 'Experimental LogS' )\n",
    "plt.ylabel( 'Predicted LogS' )\n",
    "\n",
    "plt.subplot( 1, 2, 2 )\n",
    "plt.scatter( x=Y_test, y=Y_test_pred, c=\"#F8766D\", alpha=0.3 )\n",
    "z = np.polyfit( Y_test, Y_test_pred, 1 )\n",
    "p = np.poly1d(z)\n",
    "plt.plot( Y_test, p(Y_test), \"#F8766D\" )\n",
    "plt.xlabel( 'Experimental LogS' )\n",
    "plt.ylabel( 'Predicted LogS' )\n",
    "\n",
    "plt.show()"
   ]
  }
 ],
 "metadata": {
  "colab": {
   "authorship_tag": "ABX9TyPOdg1/b66z3RV/h91ryZOU",
   "collapsed_sections": [],
   "name": "RDKit_Pandas_Solubility.ipynb",
   "private_outputs": true,
   "provenance": []
  },
  "kernelspec": {
   "display_name": "Python 3",
   "language": "python",
   "name": "python3"
  },
  "language_info": {
   "codemirror_mode": {
    "name": "ipython",
    "version": 3
   },
   "file_extension": ".py",
   "mimetype": "text/x-python",
   "name": "python",
   "nbconvert_exporter": "python",
   "pygments_lexer": "ipython3",
   "version": "3.7.7"
  }
 },
 "nbformat": 4,
 "nbformat_minor": 1
}
