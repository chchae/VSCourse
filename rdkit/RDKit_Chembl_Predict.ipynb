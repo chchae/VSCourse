{
 "cells": [
  {
   "cell_type": "raw",
   "metadata": {
    "colab": {},
    "colab_type": "code",
    "id": "M5A6fe_qRRpR"
   },
   "source": [
    "! wget -c https://repo.anaconda.com/miniconda/Miniconda3-py37_4.8.3-Linux-x86_64.sh\n",
    "! chmod +x Miniconda3-py37_4.8.3-Linux-x86_64.sh\n",
    "! bash ./Miniconda3-py37_4.8.3-Linux-x86_64.sh -b -f -p /usr/local\n",
    "\n",
    "! conda install -q -y -c rdkit rdkit \n",
    "\n",
    "import sys\n",
    "sys.path.append('/usr/local/lib/python3.7/site-packages/')\n",
    "!pip install git+https://github.com/keras-team/keras-tuner.git"
   ]
  },
  {
   "cell_type": "raw",
   "metadata": {
    "colab": {},
    "colab_type": "code",
    "id": "WVCFBrv7RmHc"
   },
   "source": [
    "from google.colab import auth\n",
    "auth.authenticate_user()\n",
    "\n",
    "from google.colab import drive\n",
    "drive.mount('./MyDrive')\n",
    "\n",
    "driver_name = './MyDrive/My Drive/Colab Notebooks/'"
   ]
  },
  {
   "cell_type": "code",
   "execution_count": 1,
   "metadata": {},
   "outputs": [],
   "source": [
    "driver_name = '../'"
   ]
  },
  {
   "cell_type": "code",
   "execution_count": 2,
   "metadata": {
    "colab": {},
    "colab_type": "code",
    "id": "Kin4R-rPRmyF"
   },
   "outputs": [
    {
     "name": "stderr",
     "output_type": "stream",
     "text": [
      "C:\\ProgramData\\Anaconda3\\envs\\rdkit\\lib\\site-packages\\sklearn\\externals\\joblib\\__init__.py:15: FutureWarning: sklearn.externals.joblib is deprecated in 0.21 and will be removed in 0.23. Please import this functionality directly from joblib, which can be installed with: pip install joblib. If this warning is raised when loading pickled models, you may need to re-serialize those models with scikit-learn 0.21+.\n",
      "  warnings.warn(msg, category=FutureWarning)\n"
     ]
    }
   ],
   "source": [
    "import numpy as np\n",
    "import pandas as pd\n",
    "from pandas import concat\n",
    "\n",
    "from collections import OrderedDict\n",
    "import requests\n",
    "from sklearn.externals import joblib\n",
    "\n",
    "from rdkit import Chem, DataStructs\n",
    "from rdkit.Chem import AllChem, DataStructs, Draw\n",
    "from rdkit.Chem.rdMolDescriptors import GetMorganFingerprint, GetMorganFingerprintAsBitVect\n",
    "from rdkit.Chem.Draw import IPythonConsole\n",
    "from rdkit import RDLogger\n",
    "RDLogger.logger().setLevel(RDLogger.CRITICAL)"
   ]
  },
  {
   "cell_type": "code",
   "execution_count": 3,
   "metadata": {
    "colab": {},
    "colab_type": "code",
    "id": "8JqTPpHaUs-6"
   },
   "outputs": [
    {
     "name": "stderr",
     "output_type": "stream",
     "text": [
      "C:\\ProgramData\\Anaconda3\\envs\\rdkit\\lib\\site-packages\\sklearn\\base.py:318: UserWarning: Trying to unpickle estimator MultinomialNB from version 0.19.1 when using version 0.22.2. This might lead to breaking code or invalid results. Use at your own risk.\n",
      "  UserWarning)\n",
      "C:\\ProgramData\\Anaconda3\\envs\\rdkit\\lib\\site-packages\\sklearn\\utils\\deprecation.py:144: FutureWarning: The sklearn.preprocessing.label module is  deprecated in version 0.22 and will be removed in version 0.24. The corresponding classes / functions should instead be imported from sklearn.preprocessing. Anything that cannot be imported from sklearn.preprocessing is now part of the private API.\n",
      "  warnings.warn(message, FutureWarning)\n",
      "C:\\ProgramData\\Anaconda3\\envs\\rdkit\\lib\\site-packages\\sklearn\\base.py:318: UserWarning: Trying to unpickle estimator LabelBinarizer from version 0.19.1 when using version 0.22.2. This might lead to breaking code or invalid results. Use at your own risk.\n",
      "  UserWarning)\n",
      "C:\\ProgramData\\Anaconda3\\envs\\rdkit\\lib\\site-packages\\sklearn\\base.py:318: UserWarning: Trying to unpickle estimator OneVsRestClassifier from version 0.19.1 when using version 0.22.2. This might lead to breaking code or invalid results. Use at your own risk.\n",
      "  UserWarning)\n"
     ]
    },
    {
     "data": {
      "text/plain": [
       "1649"
      ]
     },
     "execution_count": 3,
     "metadata": {},
     "output_type": "execute_result"
    }
   ],
   "source": [
    "morgan_nb = joblib.load( driver_name + 'data/chembl_25/models/10uM/mNB_10uM_all.pkl')\n",
    "classes = list( morgan_nb.targets )\n",
    "len( classes )"
   ]
  },
  {
   "cell_type": "code",
   "execution_count": 4,
   "metadata": {
    "colab": {},
    "colab_type": "code",
    "id": "KHHikALwVYoq"
   },
   "outputs": [
    {
     "data": {
      "image/png": "[encoded data removed]",
      "text/plain": [
       "<rdkit.Chem.rdchem.Mol at 0x20f9a583530>"
      ]
     },
     "execution_count": 4,
     "metadata": {},
     "output_type": "execute_result"
    }
   ],
   "source": [
    "smiles = 'O[C@@H](CNCCCC#CC1=CC=C(C=C1)NC(=O)C=1C=C(C=CC1)S(=O)(=O)C=1C=C2C(=C(C=NC2=C(C1)C)C(=O)N)NC1=CC(=CC=C1)OC)C1=C2C=CC(NC2=C(C=C1)O)=O'\n",
    "smiles = 'COC(=O)Nc3nc2ccc(Sc1ccccc1)cc2[nH]3'  # penbendazole\n",
    "mol = Chem.MolFromSmiles(smiles)\n",
    "mol"
   ]
  },
  {
   "cell_type": "code",
   "execution_count": 5,
   "metadata": {
    "colab": {},
    "colab_type": "code",
    "id": "NWjlWgh-VjFU"
   },
   "outputs": [
    {
     "data": {
      "text/html": [
       "<div>\n",
       "<style scoped>\n",
       "    .dataframe tbody tr th:only-of-type {\n",
       "        vertical-align: middle;\n",
       "    }\n",
       "\n",
       "    .dataframe tbody tr th {\n",
       "        vertical-align: top;\n",
       "    }\n",
       "\n",
       "    .dataframe thead th {\n",
       "        text-align: right;\n",
       "    }\n",
       "</style>\n",
       "<table border=\"1\" class=\"dataframe\">\n",
       "  <thead>\n",
       "    <tr style=\"text-align: right;\">\n",
       "      <th></th>\n",
       "      <th>id</th>\n",
       "      <th>proba</th>\n",
       "    </tr>\n",
       "  </thead>\n",
       "  <tbody>\n",
       "    <tr>\n",
       "      <th>169</th>\n",
       "      <td>CHEMBL1906</td>\n",
       "      <td>0.999999</td>\n",
       "    </tr>\n",
       "    <tr>\n",
       "      <th>915</th>\n",
       "      <td>CHEMBL3658</td>\n",
       "      <td>0.998259</td>\n",
       "    </tr>\n",
       "    <tr>\n",
       "      <th>1410</th>\n",
       "      <td>CHEMBL5145</td>\n",
       "      <td>0.997917</td>\n",
       "    </tr>\n",
       "    <tr>\n",
       "      <th>1110</th>\n",
       "      <td>CHEMBL4128</td>\n",
       "      <td>0.987022</td>\n",
       "    </tr>\n",
       "    <tr>\n",
       "      <th>206</th>\n",
       "      <td>CHEMBL1952</td>\n",
       "      <td>0.981624</td>\n",
       "    </tr>\n",
       "    <tr>\n",
       "      <th>1635</th>\n",
       "      <td>CHEMBL6137</td>\n",
       "      <td>0.945255</td>\n",
       "    </tr>\n",
       "    <tr>\n",
       "      <th>60</th>\n",
       "      <td>CHEMBL1293277</td>\n",
       "      <td>0.753855</td>\n",
       "    </tr>\n",
       "    <tr>\n",
       "      <th>53</th>\n",
       "      <td>CHEMBL1293231</td>\n",
       "      <td>0.409786</td>\n",
       "    </tr>\n",
       "    <tr>\n",
       "      <th>788</th>\n",
       "      <td>CHEMBL3356</td>\n",
       "      <td>0.337884</td>\n",
       "    </tr>\n",
       "    <tr>\n",
       "      <th>897</th>\n",
       "      <td>CHEMBL3622</td>\n",
       "      <td>0.319159</td>\n",
       "    </tr>\n",
       "  </tbody>\n",
       "</table>\n",
       "</div>"
      ],
      "text/plain": [
       "                 id     proba\n",
       "169      CHEMBL1906  0.999999\n",
       "915      CHEMBL3658  0.998259\n",
       "1410     CHEMBL5145  0.997917\n",
       "1110     CHEMBL4128  0.987022\n",
       "206      CHEMBL1952  0.981624\n",
       "1635     CHEMBL6137  0.945255\n",
       "60    CHEMBL1293277  0.753855\n",
       "53    CHEMBL1293231  0.409786\n",
       "788      CHEMBL3356  0.337884\n",
       "897      CHEMBL3622  0.319159"
      ]
     },
     "execution_count": 5,
     "metadata": {},
     "output_type": "execute_result"
    }
   ],
   "source": [
    "bitinfo={}\n",
    "fp = AllChem.GetMorganFingerprintAsBitVect( mol, 2, nBits=2048, bitInfo=bitinfo )\n",
    "fps = np.zeros( len(fp), np.int32 )\n",
    "DataStructs.ConvertToNumpyArray( fp, fps )\n",
    "\n",
    "probas = list(morgan_nb.predict_proba( fps.reshape(1,-1) )[0])\n",
    "predictions = pd.DataFrame( zip(classes, probas), columns=['id','proba'] )\n",
    "top_preds = predictions.sort_values( by='proba', ascending=False ).head(10)\n",
    "top_preds"
   ]
  },
  {
   "cell_type": "code",
   "execution_count": 6,
   "metadata": {
    "colab": {},
    "colab_type": "code",
    "id": "rvQvvk_BWPfF"
   },
   "outputs": [
    {
     "data": {
      "text/html": [
       "<div>\n",
       "<style scoped>\n",
       "    .dataframe tbody tr th:only-of-type {\n",
       "        vertical-align: middle;\n",
       "    }\n",
       "\n",
       "    .dataframe tbody tr th {\n",
       "        vertical-align: top;\n",
       "    }\n",
       "\n",
       "    .dataframe thead th {\n",
       "        text-align: right;\n",
       "    }\n",
       "</style>\n",
       "<table border=\"1\" class=\"dataframe\">\n",
       "  <thead>\n",
       "    <tr style=\"text-align: right;\">\n",
       "      <th></th>\n",
       "      <th>id</th>\n",
       "      <th>proba</th>\n",
       "      <th>name</th>\n",
       "      <th>organism</th>\n",
       "    </tr>\n",
       "  </thead>\n",
       "  <tbody>\n",
       "    <tr>\n",
       "      <th>0</th>\n",
       "      <td>CHEMBL1906</td>\n",
       "      <td>0.999999</td>\n",
       "      <td>Serine/threonine-protein kinase RAF</td>\n",
       "      <td>Homo sapiens</td>\n",
       "    </tr>\n",
       "    <tr>\n",
       "      <th>1</th>\n",
       "      <td>CHEMBL3658</td>\n",
       "      <td>0.998259</td>\n",
       "      <td>Tubulin alpha chain</td>\n",
       "      <td>Sus scrofa</td>\n",
       "    </tr>\n",
       "    <tr>\n",
       "      <th>2</th>\n",
       "      <td>CHEMBL5145</td>\n",
       "      <td>0.997917</td>\n",
       "      <td>Serine/threonine-protein kinase B-raf</td>\n",
       "      <td>Homo sapiens</td>\n",
       "    </tr>\n",
       "    <tr>\n",
       "      <th>3</th>\n",
       "      <td>CHEMBL4128</td>\n",
       "      <td>0.987022</td>\n",
       "      <td>Tyrosine-protein kinase TIE-2</td>\n",
       "      <td>Homo sapiens</td>\n",
       "    </tr>\n",
       "    <tr>\n",
       "      <th>4</th>\n",
       "      <td>CHEMBL1952</td>\n",
       "      <td>0.981624</td>\n",
       "      <td>Thymidylate synthase</td>\n",
       "      <td>Homo sapiens</td>\n",
       "    </tr>\n",
       "    <tr>\n",
       "      <th>5</th>\n",
       "      <td>CHEMBL6137</td>\n",
       "      <td>0.945255</td>\n",
       "      <td>Thymidylate synthase</td>\n",
       "      <td>Escherichia coli</td>\n",
       "    </tr>\n",
       "    <tr>\n",
       "      <th>6</th>\n",
       "      <td>CHEMBL1293277</td>\n",
       "      <td>0.753855</td>\n",
       "      <td>Niemann-Pick C1 protein</td>\n",
       "      <td>Homo sapiens</td>\n",
       "    </tr>\n",
       "    <tr>\n",
       "      <th>7</th>\n",
       "      <td>CHEMBL1293231</td>\n",
       "      <td>0.409786</td>\n",
       "      <td>Nuclear receptor ROR-gamma</td>\n",
       "      <td>Mus musculus</td>\n",
       "    </tr>\n",
       "    <tr>\n",
       "      <th>8</th>\n",
       "      <td>CHEMBL3356</td>\n",
       "      <td>0.337884</td>\n",
       "      <td>Cytochrome P450 1A2</td>\n",
       "      <td>Homo sapiens</td>\n",
       "    </tr>\n",
       "    <tr>\n",
       "      <th>9</th>\n",
       "      <td>CHEMBL3622</td>\n",
       "      <td>0.319159</td>\n",
       "      <td>Cytochrome P450 2C19</td>\n",
       "      <td>Homo sapiens</td>\n",
       "    </tr>\n",
       "  </tbody>\n",
       "</table>\n",
       "</div>"
      ],
      "text/plain": [
       "              id     proba                                   name  \\\n",
       "0     CHEMBL1906  0.999999    Serine/threonine-protein kinase RAF   \n",
       "1     CHEMBL3658  0.998259                    Tubulin alpha chain   \n",
       "2     CHEMBL5145  0.997917  Serine/threonine-protein kinase B-raf   \n",
       "3     CHEMBL4128  0.987022          Tyrosine-protein kinase TIE-2   \n",
       "4     CHEMBL1952  0.981624                   Thymidylate synthase   \n",
       "5     CHEMBL6137  0.945255                   Thymidylate synthase   \n",
       "6  CHEMBL1293277  0.753855                Niemann-Pick C1 protein   \n",
       "7  CHEMBL1293231  0.409786             Nuclear receptor ROR-gamma   \n",
       "8     CHEMBL3356  0.337884                    Cytochrome P450 1A2   \n",
       "9     CHEMBL3622  0.319159                   Cytochrome P450 2C19   \n",
       "\n",
       "           organism  \n",
       "0      Homo sapiens  \n",
       "1        Sus scrofa  \n",
       "2      Homo sapiens  \n",
       "3      Homo sapiens  \n",
       "4      Homo sapiens  \n",
       "5  Escherichia coli  \n",
       "6      Homo sapiens  \n",
       "7      Mus musculus  \n",
       "8      Homo sapiens  \n",
       "9      Homo sapiens  "
      ]
     },
     "execution_count": 6,
     "metadata": {},
     "output_type": "execute_result"
    }
   ],
   "source": [
    "def fetch_WS(trgt):\n",
    "    res = requests.get('https://www.ebi.ac.uk/chembl/api/data/target/{0}.json'.format(trgt))\n",
    "    return (trgt, res.json()['pref_name'], res.json()['organism'])\n",
    "\n",
    "\n",
    "target_list = []\n",
    "for i,e in enumerate( top_preds[ 'id' ] ):\n",
    "    target_list.append( fetch_WS(e) )\n",
    "\n",
    "\n",
    "target_info = pd.DataFrame( target_list, columns =['id','name', 'organism'] )\n",
    "pd.merge(top_preds, target_info)"
   ]
  },
  {
   "cell_type": "code",
   "execution_count": null,
   "metadata": {},
   "outputs": [],
   "source": []
  }
 ],
 "metadata": {
  "colab": {
   "authorship_tag": "ABX9TyMAU77FXU8sFYpqzit5pi6b",
   "collapsed_sections": [],
   "name": "RDKit_Chembl_Predict.ipynb",
   "private_outputs": true,
   "provenance": []
  },
  "kernelspec": {
   "display_name": "Python [conda env:rdkit] *",
   "language": "python",
   "name": "conda-env-rdkit-py"
  },
  "language_info": {
   "codemirror_mode": {
    "name": "ipython",
    "version": 3
   },
   "file_extension": ".py",
   "mimetype": "text/x-python",
   "name": "python",
   "nbconvert_exporter": "python",
   "pygments_lexer": "ipython3",
   "version": "3.7.7"
  }
 },
 "nbformat": 4,
 "nbformat_minor": 1
}
