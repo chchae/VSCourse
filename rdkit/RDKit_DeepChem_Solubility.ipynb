{
  "nbformat": 4,
  "nbformat_minor": 0,
  "metadata": {
    "kernelspec": {
      "display_name": "Python 3",
      "language": "python",
      "name": "python3"
    },
    "language_info": {
      "codemirror_mode": {
        "name": "ipython",
        "version": 3
      },
      "file_extension": ".py",
      "mimetype": "text/x-python",
      "name": "python",
      "nbconvert_exporter": "python",
      "pygments_lexer": "ipython3",
      "version": "3.7.7"
    },
    "colab": {
      "name": "RDKit_DeepChem_Solubility.ipynb",
      "provenance": []
    }
  },
  "cells": [
    {
      "cell_type": "code",
      "metadata": {
        "id": "wowIq-cjTrNE",
        "colab_type": "code",
        "colab": {}
      },
      "source": [
        "# https://colab.research.google.com/github/chchae/VSLecture/blob/master/rdkit/RDKit_DeepChem_Solubility.ipynb\n",
        "#\n",
        "#! wget -c https://repo.continuum.io/miniconda/Miniconda3-latest-Linux-x86_64.sh\n",
        "#! chmod +x Miniconda3-latest-Linux-x86_64.sh\n",
        "# ! bash ./Miniconda3-latest-Linux-x86_64.sh -b -f -p /usr/local\n",
        "\n",
        "! wget -c https://repo.anaconda.com/miniconda/Miniconda3-py37_4.8.3-Linux-x86_64.sh\n",
        "! chmod +x Miniconda3-py37_4.8.3-Linux-x86_64.sh\n",
        "! bash ./Miniconda3-py37_4.8.3-Linux-x86_64.sh -b -f -p /usr/local\n",
        "\n",
        "! conda install -q -y -c rdkit rdkit \n",
        "\n",
        "import sys\n",
        "sys.path.append('/usr/local/lib/python3.7/site-packages/')\n",
        "!pip install git+https://github.com/keras-team/keras-tuner.git"
      ],
      "execution_count": null,
      "outputs": []
    },
    {
      "cell_type": "code",
      "metadata": {
        "id": "pSWWI4Z-Tt2U",
        "colab_type": "code",
        "colab": {}
      },
      "source": [
        "from google.colab import auth\n",
        "auth.authenticate_user()\n",
        "\n",
        "from google.colab import drive\n",
        "drive.mount('./MyDrive')\n",
        "\n",
        "driver_name = './MyDrive/My Drive/Colab Notebooks/'"
      ],
      "execution_count": null,
      "outputs": []
    },
    {
      "cell_type": "code",
      "metadata": {
        "id": "tgiVxloaTnYl",
        "colab_type": "code",
        "colab": {}
      },
      "source": [
        "driver_name = '../'"
      ],
      "execution_count": null,
      "outputs": []
    },
    {
      "cell_type": "code",
      "metadata": {
        "id": "mDScrS6lTnYn",
        "colab_type": "code",
        "colab": {}
      },
      "source": [
        "import numpy as np\n",
        "import tensorflow as tf\n",
        "\n",
        "import deepchem as dc\n",
        "from deepchem.models import GraphConvModel\n",
        "from deepchem.molnet import load_delaney"
      ],
      "execution_count": null,
      "outputs": []
    },
    {
      "cell_type": "code",
      "metadata": {
        "id": "Y_DZu7n7TnYp",
        "colab_type": "code",
        "colab": {}
      },
      "source": [
        "delaney_tasks = [ 'measured log solubility in mols per litre' ]"
      ],
      "execution_count": null,
      "outputs": []
    },
    {
      "cell_type": "code",
      "metadata": {
        "scrolled": true,
        "id": "7OUoVxuDTnYr",
        "colab_type": "code",
        "colab": {}
      },
      "source": [
        "def prepare_dataset() :\n",
        "    featurizer = dc.feat.ConvMolFeaturizer()\n",
        "    loader = dc.data.CSVLoader( tasks=delaney_tasks, feature_field=\"smiles\", featurizer=featurizer )\n",
        "    dataset_file = driver_name + 'data/delaney-processed.csv'\n",
        "    dataset = loader.featurize( dataset_file, shard_size=8192 )\n",
        "    return dataset"
      ],
      "execution_count": null,
      "outputs": []
    },
    {
      "cell_type": "code",
      "metadata": {
        "id": "EA-zTy5RTnYt",
        "colab_type": "code",
        "colab": {}
      },
      "source": [
        "def transform_dataset( dataset ) :\n",
        "    transformers = [ dc.trans.NormalizationTransformer( transform_y = True, dataset=dataset ) ]\n",
        "    for transformer in transformers:\n",
        "        dataset = transformer.transform(dataset)\n",
        "\n",
        "    splitter = dc.splits.IndexSplitter()\n",
        "    train_dataset, valid_dataset, test_dataset = splitter.train_valid_test_split(dataset)\n",
        "    return train_dataset, valid_dataset, test_dataset, transformers"
      ],
      "execution_count": null,
      "outputs": []
    },
    {
      "cell_type": "code",
      "metadata": {
        "id": "2hkgHzfgTnYv",
        "colab_type": "code",
        "colab": {}
      },
      "source": [
        "def make_model( ) :\n",
        "    metric = dc.metrics.Metric(dc.metrics.pearson_r2_score, np.mean)\n",
        "    batch_size = 128\n",
        "    model = GraphConvModel( len(delaney_tasks), batch_size=batch_size, mode='regression')\n",
        "    return model, metric;"
      ],
      "execution_count": null,
      "outputs": []
    },
    {
      "cell_type": "code",
      "metadata": {
        "id": "z0jaylzmTnYx",
        "colab_type": "code",
        "colab": {}
      },
      "source": [
        "import matplotlib.pyplot as plt\n",
        "\n",
        "def plot( Y_train, Y_train_pred, Y_test, Y_test_pred ):\n",
        "    plt.figure( figsize=(11,5) )\n",
        "\n",
        "    plt.subplot( 1, 2, 1 )\n",
        "    plt.scatter( x=Y_train, y=Y_train_pred, c=\"#7CAE00\", alpha=0.3 )\n",
        "    #z = np.polyfit( Y_train, Y_train_pred, 1 )\n",
        "    #p = np.poly1d(z)\n",
        "    #plt.plot( Y_train, p(Y_train), \"#F8766D\" )\n",
        "    plt.xlabel( 'Experimental LogS' )\n",
        "    plt.ylabel( 'Predicted LogS' )\n",
        "\n",
        "    plt.subplot( 1, 2, 2 )\n",
        "    plt.scatter( x=Y_test, y=Y_test_pred, c=\"#F8766D\", alpha=0.3 )\n",
        "    #z = np.polyfit( Y_test, Y_test_pred, 1 )\n",
        "    #p = np.poly1d(z)\n",
        "    #plt.plot( Y_test, p(Y_test), \"#F8766D\" )\n",
        "    plt.xlabel( 'Experimental LogS' )\n",
        "    plt.ylabel( 'Predicted LogS' )\n",
        "\n",
        "    plt.show()"
      ],
      "execution_count": null,
      "outputs": []
    },
    {
      "cell_type": "code",
      "metadata": {
        "scrolled": false,
        "id": "k7vvZAEoTnYz",
        "colab_type": "code",
        "colab": {}
      },
      "source": [
        "def main():\n",
        "    dataset = prepare_dataset()\n",
        "    train_dataset, valid_dataset, test_dataset, transformers = transform_dataset( dataset )\n",
        "    \n",
        "    model, metric = make_model()\n",
        "    result = model.fit(train_dataset, nb_epoch=100)\n",
        "    print( 'result = %.2f' % result )\n",
        "    \n",
        "    \n",
        "    print(\"Evaluating model\")\n",
        "    train_scores = model.evaluate(train_dataset, [metric], transformers)\n",
        "    valid_scores = model.evaluate(valid_dataset, [metric], transformers)\n",
        "\n",
        "    print(\"Train scores :\", train_scores)\n",
        "    print(\"Validation scores : \", valid_scores)\n",
        "    \n",
        "    predicted_train = model.predict( train_dataset )\n",
        "    predicted_valid = model.predict( valid_dataset )\n",
        "\n",
        "    plot( train_dataset.y, predicted_train, valid_dataset.y, predicted_valid )"
      ],
      "execution_count": null,
      "outputs": []
    },
    {
      "cell_type": "code",
      "metadata": {
        "scrolled": false,
        "id": "7xPQXmaPTnY1",
        "colab_type": "code",
        "colab": {}
      },
      "source": [
        "main()"
      ],
      "execution_count": null,
      "outputs": []
    }
  ]
}