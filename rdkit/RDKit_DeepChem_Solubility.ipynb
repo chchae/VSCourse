{
 "cells": [
  {
   "cell_type": "code",
   "execution_count": null,
   "metadata": {},
   "outputs": [],
   "source": [
    "import numpy as np\n",
    "import tensorflow as tf\n",
    "\n",
    "import deepchem as dc\n",
    "from deepchem.models import GraphConvModel\n",
    "from deepchem.molnet import load_delaney"
   ]
  },
  {
   "cell_type": "code",
   "execution_count": null,
   "metadata": {},
   "outputs": [],
   "source": [
    "delaney_tasks = [ 'measured log solubility in mols per litre' ]"
   ]
  },
  {
   "cell_type": "code",
   "execution_count": null,
   "metadata": {
    "scrolled": true
   },
   "outputs": [],
   "source": [
    "def prepare_dataset() :\n",
    "    featurizer = dc.feat.ConvMolFeaturizer()\n",
    "    loader = dc.data.CSVLoader( tasks=delaney_tasks, feature_field=\"smiles\", featurizer=featurizer )\n",
    "    dataset_file = '../data/delaney-processed.csv'\n",
    "    dataset = loader.featurize( dataset_file, shard_size=8192 )\n",
    "    return dataset"
   ]
  },
  {
   "cell_type": "code",
   "execution_count": null,
   "metadata": {},
   "outputs": [],
   "source": [
    "def transform_dataset( dataset ) :\n",
    "    transformers = [ dc.trans.NormalizationTransformer( transform_y = True, dataset=dataset ) ]\n",
    "    for transformer in transformers:\n",
    "        dataset = transformer.transform(dataset)\n",
    "\n",
    "    splitter = dc.splits.IndexSplitter()\n",
    "    train_dataset, valid_dataset, test_dataset = splitter.train_valid_test_split(dataset)\n",
    "    return train_dataset, valid_dataset, test_dataset, transformers"
   ]
  },
  {
   "cell_type": "code",
   "execution_count": null,
   "metadata": {},
   "outputs": [],
   "source": [
    "def make_model( ) :\n",
    "    metric = dc.metrics.Metric(dc.metrics.pearson_r2_score, np.mean)\n",
    "    batch_size = 128\n",
    "    model = GraphConvModel( len(delaney_tasks), batch_size=batch_size, mode='regression')\n",
    "    return model, metric;"
   ]
  },
  {
   "cell_type": "code",
   "execution_count": null,
   "metadata": {
    "scrolled": false
   },
   "outputs": [],
   "source": [
    "def main():\n",
    "    dataset = prepare_dataset()\n",
    "    train_dataset, valid_dataset, test_dataset, transformers = transform_dataset( dataset )\n",
    "    \n",
    "    model, metric = make_model()\n",
    "    result = model.fit(train_dataset, nb_epoch=100)\n",
    "    print( 'result = %.2f' % result )\n",
    "    \n",
    "    \n",
    "    print(\"Evaluating model\")\n",
    "    train_scores = model.evaluate(train_dataset, [metric], transformers)\n",
    "    valid_scores = model.evaluate(valid_dataset, [metric], transformers)\n",
    "\n",
    "    print(\"Train scores :\", train_scores)\n",
    "    print(\"Validation scores : \", valid_scores)"
   ]
  },
  {
   "cell_type": "code",
   "execution_count": null,
   "metadata": {
    "scrolled": true
   },
   "outputs": [],
   "source": [
    "main()"
   ]
  },
  {
   "cell_type": "code",
   "execution_count": null,
   "metadata": {},
   "outputs": [],
   "source": []
  }
 ],
 "metadata": {
  "kernelspec": {
   "display_name": "Python [conda env:rdkit] *",
   "language": "python",
   "name": "conda-env-rdkit-py"
  },
  "language_info": {
   "codemirror_mode": {
    "name": "ipython",
    "version": 3
   },
   "file_extension": ".py",
   "mimetype": "text/x-python",
   "name": "python",
   "nbconvert_exporter": "python",
   "pygments_lexer": "ipython3",
   "version": "3.7.7"
  }
 },
 "nbformat": 4,
 "nbformat_minor": 4
}
